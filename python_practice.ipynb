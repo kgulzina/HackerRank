{
 "cells": [
  {
   "cell_type": "markdown",
   "metadata": {},
   "source": [
    "# Basic Data Types\n",
    "\n",
    "### List comprehesions\n",
    "\n",
    "<hr />\n",
    "\n",
    "### Lists\n",
    "Write a chunk of code which takes in list commands with the corresponding arguments and evaluates them. First line is the number of such commands, following commands come each in a new line.\n",
    "**Constraints**: arguments should be integers"
   ]
  },
  {
   "cell_type": "code",
   "execution_count": 12,
   "metadata": {},
   "outputs": [
    {
     "name": "stdout",
     "output_type": "stream",
     "text": [
      "12\n",
      "insert 0 5\n",
      "insert 1 10\n",
      "insert 0 6\n",
      "print\n",
      "[6, 5, 10]\n",
      "remove 6\n",
      "append 9\n",
      "append 1\n",
      "sort\n",
      "print\n",
      "[1, 5, 9, 10]\n",
      "pop\n",
      "reverse\n",
      "print\n",
      "[9, 5, 1]\n"
     ]
    }
   ],
   "source": [
    "# read the first line: N\n",
    "N = int(input())\n",
    "\n",
    "# later manipulate this empty list\n",
    "l = []\n",
    "\n",
    "for n in range(N):\n",
    "    input_line = input().split()\n",
    "    command = input_line[0]\n",
    "    args = input_line[1:]\n",
    "    if command != 'print':\n",
    "        command += '(' + ','.join(args) + ')'\n",
    "        eval('l.' + command)\n",
    "    else:\n",
    "        print(l)"
   ]
  },
  {
   "cell_type": "markdown",
   "metadata": {},
   "source": [
    "#### What I learnt:\n",
    "\n",
    "1. Each call of <mark>input()</mark> in code chunk reads a new line in the actual *raw* <mark>input()</mark>\n",
    "2. Join elements of list into a string with some character: <mark>','.join(args)</mark>\n",
    "3. Split string into multiple arguments stored in a list: <mark>str.split()</mark>\n",
    "4. <mark>eval()</mark> evaluates a string as a python code\n",
    "\n",
    "<hr/>\n",
    "\n",
    "### Tuples\n",
    "Given an integer, <em>n</em>, and <em>n</em> space-separated integers as input, create a tuple, <em>t</em>, of those <em>n</em> integers. Then compute and print the result of <em>hash()</em>."
   ]
  },
  {
   "cell_type": "code",
   "execution_count": 13,
   "metadata": {},
   "outputs": [
    {
     "name": "stdout",
     "output_type": "stream",
     "text": [
      "3\n",
      "1 2 3\n",
      "2528502973977326415\n"
     ]
    }
   ],
   "source": [
    "if __name__ == '__main__':\n",
    "    n = int(input())\n",
    "    t = tuple(int(i) for i in input().split())\n",
    "    print(hash(t))"
   ]
  },
  {
   "cell_type": "markdown",
   "metadata": {},
   "source": [
    "#### What I learnt:\n",
    "1. Tuple is an unmutable list\n",
    "2. Convert tuple into a list easily: <mark>tuple(list)</mark>\n",
    "3. Use list comprehensions for quicker change of mode of arguments of a list\n",
    "4. <mark>hash(t)</mark> returns hash value of any python object\n",
    "5. Markdown ignores and messes up * and _ signs, which are used for <em>italics</em> and <strong>bold</strong>. So better to use HTML version of italics and bold.\n",
    "\n",
    "<br><br>\n",
    "\n",
    "# Strings\n",
    "\n",
    "### Designer Door Mat\n",
    "Design a door mat with the following specifications:\n",
    "- Mat size must be $N*M$ (N is *odd* number, and $M = 3*N$)\n",
    "- The design should write welcome in the center\n",
    "- The desing should use only <mark>|</mark>, <mark>,</mark>, <mark>.</mark> and <mark>-</mark> characters"
   ]
  },
  {
   "cell_type": "code",
   "execution_count": 2,
   "metadata": {},
   "outputs": [
    {
     "name": "stdout",
     "output_type": "stream",
     "text": [
      "9 27\n",
      "------------.|.------------\n",
      "---------.|..|..|.---------\n",
      "------.|..|..|..|..|.------\n",
      "---.|..|..|..|..|..|..|.---\n",
      "----------WELCOME----------\n",
      "---.|..|..|..|..|..|..|.---\n",
      "------.|..|..|..|..|.------\n",
      "---------.|..|..|.---------\n",
      "------------.|.------------\n"
     ]
    }
   ],
   "source": [
    "values = [int(i) for i in input().split()]\n",
    "N = values[0]\n",
    "M = values[1]\n",
    "\n",
    "# check the constraints\n",
    "assert 5 < N < 101, 'Enter a valid N value!'\n",
    "assert 15 < M < 303, 'Enter a valid M value!'\n",
    "assert M == 3*N, 'M should be 3 times N'\n",
    "assert N % 2 == 1, 'N and M should be odd!'\n",
    "\n",
    "# save the repeating string\n",
    "mid_part = '.|.'\n",
    "\n",
    "for i in range(1, N+1):\n",
    "    mid = int((N+1) / 2) #middle line\n",
    "    \n",
    "    if i == mid:\n",
    "        dash_size = int((M-7) / 2)\n",
    "        print('-'*dash_size + 'WELCOME' + '-'*dash_size)\n",
    "    else:\n",
    "        if i < mid: #upper part\n",
    "            dash_size = int((M - 3*(2*i - 1)) / 2)\n",
    "            print('-'*dash_size + mid_part*(2*i-1) + '-'*dash_size)\n",
    "        else: #lower part\n",
    "            if i == (mid+1):\n",
    "                reverse = mid - 1\n",
    "            else:\n",
    "                reverse -= 1\n",
    "            dash_size = int((M - 3*(2*reverse-1)) / 2)\n",
    "            print('-'*dash_size + mid_part*(2*reverse-1) + '-'*dash_size)"
   ]
  },
  {
   "cell_type": "markdown",
   "metadata": {},
   "source": [
    "#### What I learnt:\n",
    "1. Constraints can be checked using <mark>assert expression, error message </mark>\n",
    "2. <mark>%</mark> is a modulus operator \n",
    "3. Both /, // divisions return *float*\n",
    "4. String <mark>cannot</mark> be multiplied by FLOATS. Only **integers**!\n",
    "\n",
    "<hr/>\n",
    "\n",
    "### Alphabet Rangioli\n"
   ]
  },
  {
   "cell_type": "markdown",
   "metadata": {},
   "source": [
    "Given an integer *N*, print an alphabet rangioli of size *N*. The center of rangioli should have 'a' and the boundary has the *Nth* letter of the english alphabet."
   ]
  },
  {
   "cell_type": "code",
   "execution_count": 47,
   "metadata": {},
   "outputs": [
    {
     "name": "stdout",
     "output_type": "stream",
     "text": [
      "abcdefghijklmnopqrstuvwxyz\n"
     ]
    }
   ],
   "source": [
    "import string\n",
    "print(string.ascii_lowercase)"
   ]
  },
  {
   "cell_type": "code",
   "execution_count": 1,
   "metadata": {},
   "outputs": [
    {
     "name": "stdout",
     "output_type": "stream",
     "text": [
      "12\n"
     ]
    }
   ],
   "source": [
    "N = int(input())\n",
    "assert 0 < N < 27, 'Enter a valid N value!'\n",
    "\n",
    "height = 2*N - 1\n",
    "width = height + 2*(N-1)\n",
    "\n",
    "# starter argument: first letter\n",
    "args = string.ascii_lowercase[N-1]"
   ]
  },
  {
   "cell_type": "code",
   "execution_count": null,
   "metadata": {},
   "outputs": [],
   "source": [
    "for i in range(1, height):\n",
    "    if i == N:\n",
    "        args = string.ascii_lowercase[N-i-1] + '-' + args + '-' + string.ascii_lowercase[N-i-1]\n",
    "        print(args)\n",
    "    else:\n",
    "        if i < N: #upper part\n",
    "            if i == 1:\n",
    "                dash_size = int((width - (4*i - 3)) / 2)\n",
    "                print('-'*dash_size + string.ascii_lowercase[N-1] + '-'*dash_size)\n",
    "            else:\n",
    "                args = string.ascii_lowercase[N-i-1] + '-' + args + '-' + string.ascii_lowercase[N-i-1]\n",
    "                dash_size = int((width - (4*i - 3)) / 2)\n",
    "                print('-'*dash_size + args + '-'*dash_size)\n",
    "        else: #lower part\n",
    "            if i == height:\n",
    "                dash_size = int((width - (4*reverse - 3)) / 2)\n",
    "                print('-'*dash_size + string.ascii_lowercase[N-1] + '-'*dash_size)\n",
    "            else:\n",
    "                if i == (N+1):\n",
    "                    reverse = N - 1\n",
    "                else:\n",
    "                    reverse -= 1\n",
    "                dash_size = int((width - (4*reverse - 3)) / 2)\n",
    "                # args kesiwin kerek bul jakta\n",
    "                args = sting.ascii_lowercase[upper]\n",
    "                print('-'*dash_size + args + '-'*dash_size)\n",
    "            \n",
    "            \n"
   ]
  },
  {
   "cell_type": "code",
   "execution_count": 17,
   "metadata": {},
   "outputs": [
    {
     "data": {
      "text/plain": [
       "'a-b'"
      ]
     },
     "execution_count": 17,
     "metadata": {},
     "output_type": "execute_result"
    }
   ],
   "source": [
    "import string\n",
    "#.split()\n",
    "\n",
    "'-'.join(['a', 'b'])"
   ]
  },
  {
   "cell_type": "code",
   "execution_count": 18,
   "metadata": {},
   "outputs": [
    {
     "data": {
      "text/plain": [
       "['a', 'h', 'a']"
      ]
     },
     "execution_count": 18,
     "metadata": {},
     "output_type": "execute_result"
    }
   ],
   "source": [
    "list('aha')"
   ]
  },
  {
   "cell_type": "markdown",
   "metadata": {},
   "source": [
    "#### What I learnt:\n",
    "\n",
    "<hr/>\n",
    "\n",
    "### Capitalize!\n",
    "Given a full name, your task is to capitalize the name appropriately. **Constraints**:\n",
    "1. 0 < <em>len(full name)</em> < 1000 \n",
    "2. The string consists of alphanumeric characters and spaces."
   ]
  },
  {
   "cell_type": "code",
   "execution_count": 88,
   "metadata": {},
   "outputs": [
    {
     "data": {
      "text/plain": [
       "'Ada Lovelace'"
      ]
     },
     "execution_count": 88,
     "metadata": {},
     "output_type": "execute_result"
    }
   ],
   "source": [
    "def solve(s):\n",
    "    assert 0 < len(s) < 1000, 'Name is too long or short!'\n",
    "    assert all(substring.isspace() or substring.isalnum() for substring in s), 'String should contain alphanumeric characters or space!'\n",
    "\n",
    "    s = [name.capitalize() for name in s.split(' ')]\n",
    "    return ' '.join(s)\n",
    "\n",
    "solve('ada lovelace')"
   ]
  },
  {
   "cell_type": "markdown",
   "metadata": {},
   "source": [
    "#### What I learnt:\n",
    "1. $\\forall$ logic statement can be done by: **all**(*boolean expression* for elements in *iterable objects*)\n",
    "2. $\\exists$ logic statement(at least one, any) can be done by: **any**(*boolean expression* for elements in *iterable objects*)\n",
    "3. <mark>string.capitalize()</mark>: to capitalize the first element of a string. Digits are not capitalized.\n",
    "4. <mark>string.title()</mark>: capitalizes the first letter in a string (even if it starts with digit)\n",
    "5. Check if character is alphanumeric: <mark>x.isalnum()</mark>\n",
    "6. Check if character is a space: <mark>x.isspace()</mark>\n",
    "\n",
    "<hr/>\n",
    "\n",
    "### Mutations\n",
    "We have seen that lists are mutable (they can be changed), and tuples are immutable (they cannot be changed).\n",
    "Let's try to understand this with an example. You are given an immutable string, and you want to make changes to it. Read a given string, change the character at a given index and then print the modified string. **Input**: first line contains a string, second line an integer denoting index and a character separated by space."
   ]
  },
  {
   "cell_type": "code",
   "execution_count": 52,
   "metadata": {},
   "outputs": [
    {
     "data": {
      "text/plain": [
       "'zakir'"
      ]
     },
     "execution_count": 52,
     "metadata": {},
     "output_type": "execute_result"
    }
   ],
   "source": [
    "def mutate_string(string, position, character):\n",
    "    return ''.join([string[0:position], character, string[position+1:]])\n",
    "\n",
    "mutate_string('zamir', 2, 'k')"
   ]
  },
  {
   "cell_type": "markdown",
   "metadata": {},
   "source": [
    "#### What I learnt:\n",
    "1. <mark>.join()</mark> takes only **one** element: a list\n",
    "\n",
    "<hr/>\n",
    "\n",
    "### Find a string\n",
    "In this challenge, the user enters a string and a substring. You have to print the number of times that the substring occurs in the given string. String traversal will take place from left to right, not from right to left. String letters are case sensitive! **Input**: contains the original string and a substring. <strong>Constraints</strong>:\n",
    "1. 0 <em>$\\leq len(string)\\leq$</em> 200\n",
    "2. Each character is ascii character"
   ]
  },
  {
   "cell_type": "code",
   "execution_count": 82,
   "metadata": {},
   "outputs": [
    {
     "data": {
      "text/plain": [
       "1"
      ]
     },
     "execution_count": 82,
     "metadata": {},
     "output_type": "execute_result"
    }
   ],
   "source": [
    "def count_substring(string, sub_string):\n",
    "    assert 0 <= len(string) <= 200, 'String is too long!'\n",
    "    assert all(ord(c) < 128 for c in string), 'Use ASCII characters!' #all characters should be ascii\n",
    "    \n",
    "    count = 0\n",
    "    add = len(sub_string)\n",
    "    loop = (len(string) + 1) - len(sub_string)\n",
    "    \n",
    "    for i in range(loop):\n",
    "        if string[i:(i+add)] == sub_string:\n",
    "            count +=1\n",
    "    return count\n",
    "\n",
    "count_substring('zamir', 'za')"
   ]
  },
  {
   "cell_type": "markdown",
   "metadata": {},
   "source": [
    "#### What I learnt:\n",
    "1. <mark>range(n)</mark> generates sequence of numbers starting from *0* to <em>n-1</em>\n",
    "2. ASCII order of a character can be found by: <mark>ord(c)</mark>\n",
    "3. MAX order of ASCII character is 128\n",
    "\n",
    "<hr/>\n",
    "\n",
    "### What's Your Name?\n",
    "You are given the firstname and lastname of a person on two different lines. Your task is to read them and print the following: Hello *firstname lastname*! You just delved into python. <strong>Constraints</strong>: both first and lastname have length less than or equal to 10."
   ]
  },
  {
   "cell_type": "code",
   "execution_count": 89,
   "metadata": {},
   "outputs": [
    {
     "name": "stdout",
     "output_type": "stream",
     "text": [
      "Hello Gulzina Kuttubekova! You just delved into python.\n"
     ]
    }
   ],
   "source": [
    "def print_full_name(a, b):\n",
    "    print('Hello ' + a + ' ' + b + '! You just delved into python.')\n",
    "\n",
    "print_full_name('Gulzina', 'Kuttubekova')"
   ]
  },
  {
   "cell_type": "markdown",
   "metadata": {},
   "source": [
    "#### What I learnt:\n",
    "1. Strings can be joined in *print()* by <mark>+</mark>\n",
    "\n",
    "<hr/>\n",
    "\n",
    "### String Split and Join\n",
    "You are given a string. Split the string on a \" \" (space) delimiter and join using a - hyphen."
   ]
  },
  {
   "cell_type": "code",
   "execution_count": null,
   "metadata": {},
   "outputs": [],
   "source": [
    "def split_and_join(line):\n",
    "    return '-'.join(line.split(' '))"
   ]
  },
  {
   "cell_type": "markdown",
   "metadata": {},
   "source": [
    "#### What I learnt:\n",
    "1. string can be split wrt different delimiters\n",
    "2. string in a list can be joined to larger string by <mark>'delimiter'.join()</mark>\n",
    "\n",
    "<hr/>\n",
    "\n",
    "### sWAP cASE\n",
    "You are given a string and your task is to swap cases. In other words, convert all lowercase letters to uppercase letters and vice versa. <strong>Constraint</strong>: 0 < *len(S)* <= 1000"
   ]
  },
  {
   "cell_type": "code",
   "execution_count": 94,
   "metadata": {},
   "outputs": [
    {
     "data": {
      "text/plain": [
       "'cALIfORNIA'"
      ]
     },
     "execution_count": 94,
     "metadata": {},
     "output_type": "execute_result"
    }
   ],
   "source": [
    "def swap_case(s):\n",
    "    assert 0 < len(s) <= 1000, 'String is too long!'\n",
    "    \n",
    "    return s.swapcase()\n",
    "\n",
    "swap_case('CaliFornia')"
   ]
  },
  {
   "cell_type": "markdown",
   "metadata": {},
   "source": [
    "#### What I learnt:\n",
    "\n",
    "<hr/>\n",
    "\n",
    "### String Validators\n",
    "You are given a string *S*. Your task is to find out if the string contains: alphanumeric characters, alphabetical characters, digits, lowercase and uppercase characters. Print boolean output for each case on a new line. __Constraints__: 0 < $len(S)$ < 1000"
   ]
  },
  {
   "cell_type": "code",
   "execution_count": null,
   "metadata": {},
   "outputs": [],
   "source": [
    "if __name__ == '__main__':\n",
    "    s = input()\n",
    "    assert 0 < len(s) < 1000, 'String is too long!'\n",
    "    \n",
    "    if any(substr.isalnum() for substr in s):\n",
    "        print(True)\n",
    "    else:\n",
    "        print(False)\n",
    "        \n",
    "    if any(substr.isalpha() for substr in s):\n",
    "        print(True)\n",
    "    else:\n",
    "        print(False)\n",
    "        \n",
    "    if any(substr.isdigit() for substr in s):\n",
    "        print(True)\n",
    "    else:\n",
    "        print(False)\n",
    "        \n",
    "    if any(substr.islower() for substr in s):\n",
    "        print(True)\n",
    "    else:\n",
    "        print(False)\n",
    "        \n",
    "    if any(substr.isupper() for substr in s):\n",
    "        print(True)\n",
    "    else:\n",
    "        print(False)"
   ]
  },
  {
   "cell_type": "markdown",
   "metadata": {},
   "source": [
    "#### What I learnt:\n",
    "1. There are bunch built-in of string validators in python\n",
    "2. Check if character is upper of lower case: <mark>islower(), isupper()</mark>\n",
    "\n",
    "<hr/>\n",
    "\n",
    "### Text Wrap\n",
    "You are given a string *S* and width _w_. Your task is to wrap the string into a paragraph of width <em>w</em>. <strong>Constraints</strong>:\n",
    "1. 0 < $len(S)$ < 1000\n",
    "2. 0 < $w$ < $len(S)$"
   ]
  },
  {
   "cell_type": "code",
   "execution_count": 43,
   "metadata": {},
   "outputs": [
    {
     "data": {
      "text/plain": [
       "'ABCD\\nEFGH\\nIJKL\\nIMNO\\nQRST\\nUVWX\\nYZ'"
      ]
     },
     "execution_count": 43,
     "metadata": {},
     "output_type": "execute_result"
    }
   ],
   "source": [
    "import textwrap\n",
    "\n",
    "def wrap(string, max_width):\n",
    "    assert 0 < len(string) < 1000, 'String is too long!'\n",
    "    assert 0 < max_width < len(string), 'max width is greater than length of original string'\n",
    "    \n",
    "    return \"\\n\".join([string[i:i+max_width] for i in range(0, len(string), max_width)])\n",
    "    \n",
    "wrap('ABCDEFGHIJKLIMNOQRSTUVWXYZ', 4)"
   ]
  },
  {
   "cell_type": "markdown",
   "metadata": {},
   "source": [
    "#### What I learnt:\n",
    "1. import **textwrap** module for some text formatting\n",
    "2. Use '\\n' in joining string on a new lines\n",
    "\n",
    "<hr/>\n",
    "\n",
    "### String Formatting\n",
    "Given an integer, , print the following values for each integer $i$ from $1$ to $n$:\n",
    "1. Decimal\n",
    "2. Octal\n",
    "3. Hexadecimal (capitalized)\n",
    "4. Binary\n",
    "The four values must be printed on a single line in the order specified above for each $i$ from $1$ to $n$. Each value should be space-padded to match the width of the binary value of $n$. **Constraints**: $1 \\leq n \\leq 99$"
   ]
  },
  {
   "cell_type": "code",
   "execution_count": 77,
   "metadata": {},
   "outputs": [
    {
     "name": "stdout",
     "output_type": "stream",
     "text": [
      "   1    1    1    1\n",
      "   2    2    2   10\n",
      "   3    3    3   11\n",
      "   4    4    4  100\n",
      "   5    5    5  101\n",
      "   6    6    6  110\n",
      "   7    7    7  111\n",
      "   8   10    8 1000\n",
      "   9   11    9 1001\n",
      "  10   12    A 1010\n",
      "  11   13    B 1011\n",
      "  12   14    C 1100\n",
      "  13   15    D 1101\n",
      "  14   16    E 1110\n",
      "  15   17    F 1111\n"
     ]
    }
   ],
   "source": [
    "def print_formatted(number):\n",
    "    assert 0 <= number <= 99\n",
    "    \n",
    "    space_width = len(bin(number)[2:])\n",
    "    for i in range(1, number+1):\n",
    "        print(str(i).rjust(space_width), oct(i)[2:].rjust(space_width), \n",
    "              hex(i)[2:].upper().rjust(space_width), bin(i)[2:].rjust(space_width))\n",
    "        \n",
    "print_formatted(15)"
   ]
  },
  {
   "cell_type": "markdown",
   "metadata": {},
   "source": [
    "#### What I learnt:\n",
    "1. Decimal numbers can be easily converted to octal, hexadecimal and binary numbers by: <mark>oct(), hex(), bin()</mark>\n",
    "2. All converted values are already **strings**!\n",
    "3. Hexadecimal by default is NOT capitalized\n",
    "4. Space padding from <em>left</em> or <em>right</em> can be done by <mark>ljust(), rjust()</mark> fucntions\n",
    "\n",
    "<hr/>\n",
    "\n",
    "### Text alignment\n",
    "You are given a partial code that is used for generating the HackerRank Logo of variable thickness. \n",
    "Your task is to replace the blank (______) with rjust, ljust or center."
   ]
  },
  {
   "cell_type": "code",
   "execution_count": 85,
   "metadata": {},
   "outputs": [
    {
     "name": "stdout",
     "output_type": "stream",
     "text": [
      "7\n",
      "      H      \n",
      "     HHH     \n",
      "    HHHHH    \n",
      "   HHHHHHH   \n",
      "  HHHHHHHHH  \n",
      " HHHHHHHHHHH \n",
      "HHHHHHHHHHHHH\n",
      "   HHHHHHH                     HHHHHHH                  \n",
      "   HHHHHHH                     HHHHHHH                  \n",
      "   HHHHHHH                     HHHHHHH                  \n",
      "   HHHHHHH                     HHHHHHH                  \n",
      "   HHHHHHH                     HHHHHHH                  \n",
      "   HHHHHHH                     HHHHHHH                  \n",
      "   HHHHHHH                     HHHHHHH                  \n",
      "   HHHHHHH                     HHHHHHH                  \n",
      "   HHHHHHHHHHHHHHHHHHHHHHHHHHHHHHHHHHH    \n",
      "   HHHHHHHHHHHHHHHHHHHHHHHHHHHHHHHHHHH    \n",
      "   HHHHHHHHHHHHHHHHHHHHHHHHHHHHHHHHHHH    \n",
      "   HHHHHHHHHHHHHHHHHHHHHHHHHHHHHHHHHHH    \n",
      "   HHHHHHH                     HHHHHHH                  \n",
      "   HHHHHHH                     HHHHHHH                  \n",
      "   HHHHHHH                     HHHHHHH                  \n",
      "   HHHHHHH                     HHHHHHH                  \n",
      "   HHHHHHH                     HHHHHHH                  \n",
      "   HHHHHHH                     HHHHHHH                  \n",
      "   HHHHHHH                     HHHHHHH                  \n",
      "   HHHHHHH                     HHHHHHH                  \n",
      "                            HHHHHHHHHHHHH \n",
      "                             HHHHHHHHHHH  \n",
      "                              HHHHHHHHH   \n",
      "                               HHHHHHH    \n",
      "                                HHHHH     \n",
      "                                 HHH      \n",
      "                                  H       \n"
     ]
    }
   ],
   "source": [
    "thickness = int(input()) #This must be an odd number\n",
    "c = 'H'\n",
    "\n",
    "#Top Cone\n",
    "for i in range(thickness):\n",
    "    print((c*i).rjust(thickness-1)+c+(c*i).ljust(thickness-1))\n",
    "\n",
    "#Top Pillars\n",
    "for i in range(thickness+1):\n",
    "    print((c*thickness).center(thickness*2)+(c*thickness).center(thickness*6))\n",
    "\n",
    "#Middle Belt\n",
    "for i in range((thickness+1)//2):\n",
    "    print((c*thickness*5).center(thickness*6))    \n",
    "\n",
    "#Bottom Pillars\n",
    "for i in range(thickness+1):\n",
    "    print((c*thickness).center(thickness*2)+(c*thickness).center(thickness*6))    \n",
    "\n",
    "#Bottom Cone\n",
    "for i in range(thickness):\n",
    "    print(((c*(thickness-i-1)).rjust(thickness)+c+(c*(thickness-i-1)).ljust(thickness)).rjust(thickness*6))"
   ]
  },
  {
   "cell_type": "markdown",
   "metadata": {},
   "source": [
    "#### What I learnt:\n",
    "1. String can be aligned (space-padded) by using <mark>center()</mark>\n",
    "\n",
    "<hr/>\n",
    "\n",
    "### The Minion Game\n"
   ]
  },
  {
   "cell_type": "code",
   "execution_count": null,
   "metadata": {},
   "outputs": [],
   "source": []
  }
 ],
 "metadata": {
  "kernelspec": {
   "display_name": "Python 3",
   "language": "python",
   "name": "python3"
  },
  "language_info": {
   "codemirror_mode": {
    "name": "ipython",
    "version": 3
   },
   "file_extension": ".py",
   "mimetype": "text/x-python",
   "name": "python",
   "nbconvert_exporter": "python",
   "pygments_lexer": "ipython3",
   "version": "3.7.0"
  }
 },
 "nbformat": 4,
 "nbformat_minor": 2
}
