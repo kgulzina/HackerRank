{
 "cells": [
  {
   "cell_type": "markdown",
   "metadata": {},
   "source": [
    "### Arrays: Left rotation - Done"
   ]
  },
  {
   "cell_type": "code",
   "execution_count": null,
   "metadata": {},
   "outputs": [],
   "source": [
    "def rotLeft(a, d):\n",
    "    for i in range(d):\n",
    "        temp = a.pop(0)\n",
    "        a.append(temp)\n",
    "        print(a)\n",
    "    return a"
   ]
  },
  {
   "cell_type": "code",
   "execution_count": null,
   "metadata": {},
   "outputs": [],
   "source": [
    "arr = [1, 2, 3, 4, 5]\n",
    "rotLeft(arr, 4)"
   ]
  },
  {
   "cell_type": "markdown",
   "metadata": {},
   "source": [
    "### New Year Chaos - Partially done"
   ]
  },
  {
   "cell_type": "code",
   "execution_count": null,
   "metadata": {},
   "outputs": [],
   "source": [
    "def minimumBribes(q):\n",
    "    n = len(q)\n",
    "    chaotic = False\n",
    "    bribes = 0\n",
    "    \n",
    "    for i in reversed(range(n)):\n",
    "        if q[i] == (i+1):\n",
    "            continue     \n",
    "        elif q[i] < (i+1):\n",
    "            count = 0\n",
    "            for j in range(q[i]+1,n+1):\n",
    "                if j in q[:i]:\n",
    "                    count += 1\n",
    "            bribes += count\n",
    "        else:\n",
    "            if abs((q[i])-(i+1)) > 2:\n",
    "                chaotic = True\n",
    "                break\n",
    "    \n",
    "    if chaotic:\n",
    "        print('Too chaotic')\n",
    "    else:\n",
    "        print(bribes)"
   ]
  },
  {
   "cell_type": "code",
   "execution_count": null,
   "metadata": {},
   "outputs": [],
   "source": [
    "q = [2, 1, 5, 3, 4]\n",
    "minimumBribes(q)"
   ]
  },
  {
   "cell_type": "markdown",
   "metadata": {},
   "source": [
    "### Minimum Swaps 2 - Done, needs Optimization"
   ]
  },
  {
   "cell_type": "code",
   "execution_count": null,
   "metadata": {},
   "outputs": [],
   "source": [
    "def minimumSwaps(arr):\n",
    "    count = 0\n",
    "    n = len(arr)\n",
    "    old_dict = dict(enumerate(arr))\n",
    "    key = 0\n",
    "    \n",
    "    while list(old_dict.values()) != list(range(1,n+1)):\n",
    "        if key+1 != old_dict[key]:\n",
    "            count += 1\n",
    "            \n",
    "            # swap two numbers, by using temp\n",
    "            temp = old_dict[old_dict[key]-1]\n",
    "            old_dict[old_dict[key]-1] = old_dict[key]\n",
    "            old_dict[key] = temp\n",
    "        else:\n",
    "            key += 1\n",
    "            \n",
    "    return count"
   ]
  },
  {
   "cell_type": "code",
   "execution_count": null,
   "metadata": {},
   "outputs": [],
   "source": [
    "arr = [1, 3, 5, 2, 4, 6, 7]\n",
    "minimumSwaps(arr)"
   ]
  },
  {
   "cell_type": "code",
   "execution_count": null,
   "metadata": {},
   "outputs": [],
   "source": []
  },
  {
   "cell_type": "code",
   "execution_count": null,
   "metadata": {},
   "outputs": [],
   "source": []
  },
  {
   "cell_type": "code",
   "execution_count": null,
   "metadata": {},
   "outputs": [],
   "source": []
  },
  {
   "cell_type": "code",
   "execution_count": null,
   "metadata": {},
   "outputs": [],
   "source": []
  },
  {
   "cell_type": "code",
   "execution_count": null,
   "metadata": {},
   "outputs": [],
   "source": []
  }
 ],
 "metadata": {
  "kernelspec": {
   "display_name": "Python 3",
   "language": "python",
   "name": "python3"
  },
  "language_info": {
   "codemirror_mode": {
    "name": "ipython",
    "version": 3
   },
   "file_extension": ".py",
   "mimetype": "text/x-python",
   "name": "python",
   "nbconvert_exporter": "python",
   "pygments_lexer": "ipython3",
   "version": "3.7.0"
  }
 },
 "nbformat": 4,
 "nbformat_minor": 2
}
