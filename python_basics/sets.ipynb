{
 "cells": [
  {
   "cell_type": "markdown",
   "metadata": {},
   "source": [
    "# Sets\n",
    "\n",
    "### Introduction to Sets\n",
    "A set is an unordered collection of elements without duplicate entries.\n",
    "When printed, iterated or converted into a sequence, its elements will appear in an arbitrary order.\n",
    "Basically, sets are used for membership testing and eliminating duplicate entries.\n",
    "**Task:** Ms. Gabriel Williams is a botany professor at District College. One day, she asked her student Mickey to compute the average of all the plants with distinct heights in her greenhouse.\n",
    "**Input Formats:**\n",
    "1. The first line contains the integer, $N$, the total number of plants.\n",
    "2. The second line contains the $N$ space separated heights of the plants.\n",
    "\n",
    "**Constraints:** $0 < N \\leq 100$"
   ]
  },
  {
   "cell_type": "code",
   "execution_count": 4,
   "metadata": {},
   "outputs": [
    {
     "data": {
      "text/plain": [
       "169.375"
      ]
     },
     "execution_count": 4,
     "metadata": {},
     "output_type": "execute_result"
    }
   ],
   "source": [
    "def average(array):\n",
    "    assert 0 < len(array) <= 100, 'Number of plants exceeds 100!'\n",
    "    return sum(set(array)) / len(set(array))"
   ]
  },
  {
   "cell_type": "markdown",
   "metadata": {},
   "source": [
    "#### What I learnt:\n",
    "1. <mark>set(array)</mark> is used to get only unique elements!!!\n",
    "\n",
    "<hr/>\n",
    "\n",
    "### Symmetric Difference\n",
    "Given 2 sets of integers, $M$ and $N$, print their symmetric difference in ascending order. The term symmetric difference indicates those values that exist in either $M$ or $N$ but do not exist in both. Output the symmetric difference integers in ascending order, one per line.\n",
    "**Input Format:**\n",
    "1. The first line of input contains an integer, $M$.\n",
    "2. The second line contains $M$ space-separated integers.\n",
    "3. The third line contains an integer, $N$.\n",
    "4. The fourth line contains $N$ space-separated integers."
   ]
  },
  {
   "cell_type": "code",
   "execution_count": 10,
   "metadata": {},
   "outputs": [
    {
     "name": "stdout",
     "output_type": "stream",
     "text": [
      "4 \n",
      "2 4 5 6\n",
      "4 \n",
      "2 4 7 8\n",
      "5\n",
      "6\n",
      "7\n",
      "8\n"
     ]
    }
   ],
   "source": [
    "m = int(input())\n",
    "set_M = set(map(int, input().split()))\n",
    "n = int(input())\n",
    "set_N = set(map(int, input().split()))\n",
    "\n",
    "# set operation\n",
    "res = sorted(list(set_M.union(set_N).difference(set_M.intersection(set_N))))\n",
    "for i in res:\n",
    "    print(i)"
   ]
  },
  {
   "cell_type": "markdown",
   "metadata": {},
   "source": [
    "#### What I learnt:\n",
    "1. Set operations like: <mark>union(), intersection(), difference()</mark> are totally the same as the real set operations (those operations are *symmetric*)\n",
    "2. Add elements to set: <mark>add(), set.update(iterable)</mark>\n",
    "3. Remove elements from the set: <mark>remove(), discard()</mark>\n",
    "4. Elements of a set can be any different object\n",
    "5. {}: how set is created\n",
    "6. set can be easily converted to list() and vica versa\n",
    "\n",
    "<hr/>\n",
    "\n",
    "### Set.add()\n",
    "Rupal has a huge collection of country stamps. She decided to count the total number of distinct country stamps in her collection. She asked for your help. You pick the stamps one by one from a stack of $N$ country stamps. Find the total number of distinct country stamps.\n",
    "\n",
    "**Input Format:**\n",
    "1. The first line contains an integer $N$, the total number of country stamps.\n",
    "2. The next $N$ lines contains the name of the country where the stamp is from\n",
    "\n",
    "**Constraints:**\n",
    "1. $0 < N < 1000$"
   ]
  },
  {
   "cell_type": "code",
   "execution_count": 12,
   "metadata": {},
   "outputs": [
    {
     "name": "stdout",
     "output_type": "stream",
     "text": [
      "7\n",
      "UK\n",
      "China\n",
      "USA\n",
      "France\n",
      "New Zealand\n",
      "UK\n",
      "France\n",
      "5\n"
     ]
    }
   ],
   "source": [
    "n = int(input())\n",
    "assert 0 < n < 1000, 'N value is too large!'\n",
    "\n",
    "countries = set()\n",
    "for _ in range(n):\n",
    "    countries.add(input())\n",
    "print(len(countries))"
   ]
  },
  {
   "cell_type": "markdown",
   "metadata": {},
   "source": [
    "#### What I learnt:\n",
    "1. Create new set with: <mark>M = set()</mark>\n",
    "2. Length of a set: <mark>len(set)</mark>\n",
    "\n",
    "<hr/>\n",
    "\n",
    "### Set.discard(), .remove() & .pop()\n",
    "You have a non-empty set $s$, and you have to execute $N$ commands given in $N$ lines. The commands will be pop, remove and discard. Print the sum of the elements of set $s$ on a single line.\n",
    "\n",
    "**Input Format**:\n",
    "1. The first line contains integer $n$, the number of elements in the set $s$.\n",
    "2. The second line contains $n$ space separated elements of set $s$. All of the elements are non-negative integers, less than or equal to 9.\n",
    "3. The third line contains integer $N$, the number of commands.\n",
    "4. The next $N$ lines contains either pop, remove and/or discard commands followed by their associated value.\n",
    "\n",
    "**Constraints**:\n",
    "1. 0 < n < 20\n",
    "2. 0 < N < 20"
   ]
  },
  {
   "cell_type": "code",
   "execution_count": 13,
   "metadata": {},
   "outputs": [
    {
     "name": "stdout",
     "output_type": "stream",
     "text": [
      "9\n",
      "1 2 3 4 5 6 7 8 9\n",
      "10\n",
      "pop\n",
      "remove 9\n",
      "discard 9\n",
      "discard 8\n",
      "remove 7\n",
      "pop\n",
      "discard 6\n",
      "remove 5\n",
      "pop\n",
      "discard 5\n",
      "4\n"
     ]
    }
   ],
   "source": [
    "n = int(input())\n",
    "assert 0 < n < 20, 'n is out of range!'\n",
    "s = set(map(int, input().split()))\n",
    "\n",
    "N = int(input())\n",
    "assert 0 < N < 20, 'N is out of range!'\n",
    "for _ in range(N):\n",
    "    input_line = input().split()\n",
    "    command = input_line[0]\n",
    "    args = input_line[1:]\n",
    "    if command == 'pop':\n",
    "        s.pop()\n",
    "    else:\n",
    "        command += '(' + ','.join(args) + ')'\n",
    "        eval('s.' + command)\n",
    "print(sum(s))"
   ]
  },
  {
   "cell_type": "markdown",
   "metadata": {},
   "source": [
    "#### What I learnt:\n",
    "1. <mark>pop()</mark> is also used to remove the last element\n",
    "\n",
    "<hr/>\n",
    "\n",
    "### Set.union() Operation\n",
    "We are given two sets of student roll numbers. One set has subscribed to the English newspaper, and the other set is subscribed to the French newspaper. The same student could be in both sets. Your task is to find the total number of students who have subscribed to at least one newspaper. Output the total number of students who have at least one subscription.\n",
    "\n",
    "**Input Formats:**\n",
    "1. The first line contains an integer, $n$, the number of students who have subscribed to the English newspaper.\n",
    "2. The second line contains $n$ space separated roll numbers of those students.\n",
    "3. The third line contains $b$, the number of students who have subscribed to the French newspaper.\n",
    "4. The fourth line contains $b$ space separated roll numbers of those students.\n",
    "\n",
    "**Constraints:**\n",
    "1. 0 < _Total number of students in college_ < 1000"
   ]
  },
  {
   "cell_type": "code",
   "execution_count": 14,
   "metadata": {},
   "outputs": [
    {
     "name": "stdout",
     "output_type": "stream",
     "text": [
      "9\n",
      "1 2 3 4 5 6 7 8 9\n",
      "9\n",
      "10 1 2 3 11 21 55 6 8\n",
      "13\n"
     ]
    }
   ],
   "source": [
    "n = int(input())\n",
    "english = set(map(int, input().split()))\n",
    "b = int(input())\n",
    "french = set(map(int, input().split()))\n",
    "\n",
    "assert 0 < len(english | french) < 1000, 'Too many students in college!'\n",
    "\n",
    "print(len(english | french))"
   ]
  },
  {
   "cell_type": "markdown",
   "metadata": {},
   "source": [
    "#### What I learnt:\n",
    "1. Set is ummutable: it cannot be changed\n",
    "2. <mark>|</mark> also can be used for .union()\n",
    "\n",
    "<hr/>\n",
    "\n",
    "### Set.intesection() Operation\n",
    "You are given two sets of student roll numbers. One set has subscribed to the English newspaper, one set has subscribed to the French newspaper. Your task is to find the total number of students who have subscribed to both newspapers. It has the same input format as the previous problem and the same constraint. Output the total number of students who have subscriptions to __both__ English and French newspapers."
   ]
  },
  {
   "cell_type": "code",
   "execution_count": 18,
   "metadata": {},
   "outputs": [
    {
     "name": "stdout",
     "output_type": "stream",
     "text": [
      "4\n",
      "1 2 3 4\n",
      "5 \n",
      "6 5  2 3 4\n",
      "3\n"
     ]
    }
   ],
   "source": [
    "n = int(input())\n",
    "english = set(map(int, input().split()))\n",
    "b = int(input())\n",
    "french = set(map(int, input().split()))\n",
    "\n",
    "assert 0 < len(english | french) < 1000, 'Too many students in college!'\n",
    "\n",
    "print(len(english & french))"
   ]
  },
  {
   "cell_type": "markdown",
   "metadata": {},
   "source": [
    "#### What I learnt:\n",
    "1. <mark>&</mark> also can be used for .intersection()\n",
    "\n",
    "<hr/>\n",
    "\n",
    "### Set.difference() Operator\n",
    "You are given two sets of student roll numbers. One set has subscribed to the English newspaper, and one set has subscribed to the French newspaper. Your task is to find the total number of students who have subscribed to only English newspapers. It has the same input format as the previous problem and the same constraint. Output the total number of students who are subscribed to the English newspaper only."
   ]
  },
  {
   "cell_type": "code",
   "execution_count": 19,
   "metadata": {},
   "outputs": [
    {
     "name": "stdout",
     "output_type": "stream",
     "text": [
      "9\n",
      "1 2 3 4 5 6 7 8 9\n",
      "9\n",
      "10 1 2 3 11 21 55 6 8\n",
      "4\n"
     ]
    }
   ],
   "source": [
    "n = int(input())\n",
    "english = set(map(int, input().split()))\n",
    "b = int(input())\n",
    "french = set(map(int, input().split()))\n",
    "\n",
    "assert 0 < len(english | french) < 1000, 'Too many students in college!'\n",
    "\n",
    "print(len(english - french))"
   ]
  },
  {
   "cell_type": "markdown",
   "metadata": {},
   "source": [
    "#### What I learnt:\n",
    "1. <mark>-</mark> also can be used for .difference()\n",
    "\n",
    "<hr/>\n",
    "\n",
    "### Set.symmetric_difference() Operation\n",
    "You are given two sets of student roll numbers. One set has subscribed to the English newspaper, and one set has subscribed to the French newspaper. Your task is to find the total number of students who have subscribed to either the English or the French newspaper but not both. It has the same input format as the previous problem and the same constraint. Output total number of students who have subscriptions to the English or the French newspaper but not both."
   ]
  },
  {
   "cell_type": "code",
   "execution_count": null,
   "metadata": {},
   "outputs": [],
   "source": [
    "n = int(input())\n",
    "english = set(map(int, input().split()))\n",
    "b = int(input())\n",
    "french = set(map(int, input().split()))\n",
    "\n",
    "assert 0 < len(english | french) < 1000, 'Too many students in college!'\n",
    "\n",
    "print(len(english ^ french))"
   ]
  },
  {
   "cell_type": "markdown",
   "metadata": {},
   "source": [
    "#### What I learnt:\n",
    "1. <mark>.symmetric_difference()</mark> is equivalent to $(A\\cup B) - (A\\cap B)$\n",
    "2. <mark>^</mark> also can be used for .symmetric_difference()\n",
    "\n",
    "<hr/>\n",
    "\n",
    "### Set Mutations\n",
    "You are given a set $A$ and $N$ number of other sets. These $N$ number of sets have to perform some specific mutation operations on set $A$. Your task is to execute those operations and print the sum of elements from set $A$. Output the sum of elements in set $A$.\n",
    "\n",
    "**Input Format:**\n",
    "\n",
    "1. The first line contains the number of elements in set $A$.\n",
    "2. The second line contains the space separated list of elements in set $A$.\n",
    "3. The third line contains integer $N$, the number of other sets.\n",
    "4. The next $2*N$ lines are divided into $N$ parts containing two lines each.\n",
    "5. The first line of each part contains the space separated entries of the operation name and the length of the other set.\n",
    "6. The second line of each part contains space separated list of elements in the other set.\n",
    "\n",
    "**Constraints:**\n",
    "1. $0 < len(set(A)) < 1000$\n",
    "2. $0 < len(otherSets) < 100$\n",
    "3. $0 < N < 100$"
   ]
  },
  {
   "cell_type": "code",
   "execution_count": 26,
   "metadata": {},
   "outputs": [
    {
     "ename": "KeyboardInterrupt",
     "evalue": "",
     "output_type": "error",
     "traceback": [
      "\u001b[0;31m---------------------------------------------------------------------------\u001b[0m",
      "\u001b[0;31mKeyboardInterrupt\u001b[0m                         Traceback (most recent call last)",
      "\u001b[0;32m/anaconda3/lib/python3.7/site-packages/ipykernel/kernelbase.py\u001b[0m in \u001b[0;36m_input_request\u001b[0;34m(self, prompt, ident, parent, password)\u001b[0m\n\u001b[1;32m    728\u001b[0m             \u001b[0;32mtry\u001b[0m\u001b[0;34m:\u001b[0m\u001b[0;34m\u001b[0m\u001b[0m\n\u001b[0;32m--> 729\u001b[0;31m                 \u001b[0mident\u001b[0m\u001b[0;34m,\u001b[0m \u001b[0mreply\u001b[0m \u001b[0;34m=\u001b[0m \u001b[0mself\u001b[0m\u001b[0;34m.\u001b[0m\u001b[0msession\u001b[0m\u001b[0;34m.\u001b[0m\u001b[0mrecv\u001b[0m\u001b[0;34m(\u001b[0m\u001b[0mself\u001b[0m\u001b[0;34m.\u001b[0m\u001b[0mstdin_socket\u001b[0m\u001b[0;34m,\u001b[0m \u001b[0;36m0\u001b[0m\u001b[0;34m)\u001b[0m\u001b[0;34m\u001b[0m\u001b[0m\n\u001b[0m\u001b[1;32m    730\u001b[0m             \u001b[0;32mexcept\u001b[0m \u001b[0mException\u001b[0m\u001b[0;34m:\u001b[0m\u001b[0;34m\u001b[0m\u001b[0m\n",
      "\u001b[0;32m/anaconda3/lib/python3.7/site-packages/jupyter_client/session.py\u001b[0m in \u001b[0;36mrecv\u001b[0;34m(self, socket, mode, content, copy)\u001b[0m\n\u001b[1;32m    802\u001b[0m         \u001b[0;32mtry\u001b[0m\u001b[0;34m:\u001b[0m\u001b[0;34m\u001b[0m\u001b[0m\n\u001b[0;32m--> 803\u001b[0;31m             \u001b[0mmsg_list\u001b[0m \u001b[0;34m=\u001b[0m \u001b[0msocket\u001b[0m\u001b[0;34m.\u001b[0m\u001b[0mrecv_multipart\u001b[0m\u001b[0;34m(\u001b[0m\u001b[0mmode\u001b[0m\u001b[0;34m,\u001b[0m \u001b[0mcopy\u001b[0m\u001b[0;34m=\u001b[0m\u001b[0mcopy\u001b[0m\u001b[0;34m)\u001b[0m\u001b[0;34m\u001b[0m\u001b[0m\n\u001b[0m\u001b[1;32m    804\u001b[0m         \u001b[0;32mexcept\u001b[0m \u001b[0mzmq\u001b[0m\u001b[0;34m.\u001b[0m\u001b[0mZMQError\u001b[0m \u001b[0;32mas\u001b[0m \u001b[0me\u001b[0m\u001b[0;34m:\u001b[0m\u001b[0;34m\u001b[0m\u001b[0m\n",
      "\u001b[0;32m/anaconda3/lib/python3.7/site-packages/zmq/sugar/socket.py\u001b[0m in \u001b[0;36mrecv_multipart\u001b[0;34m(self, flags, copy, track)\u001b[0m\n\u001b[1;32m    466\u001b[0m         \"\"\"\n\u001b[0;32m--> 467\u001b[0;31m         \u001b[0mparts\u001b[0m \u001b[0;34m=\u001b[0m \u001b[0;34m[\u001b[0m\u001b[0mself\u001b[0m\u001b[0;34m.\u001b[0m\u001b[0mrecv\u001b[0m\u001b[0;34m(\u001b[0m\u001b[0mflags\u001b[0m\u001b[0;34m,\u001b[0m \u001b[0mcopy\u001b[0m\u001b[0;34m=\u001b[0m\u001b[0mcopy\u001b[0m\u001b[0;34m,\u001b[0m \u001b[0mtrack\u001b[0m\u001b[0;34m=\u001b[0m\u001b[0mtrack\u001b[0m\u001b[0;34m)\u001b[0m\u001b[0;34m]\u001b[0m\u001b[0;34m\u001b[0m\u001b[0m\n\u001b[0m\u001b[1;32m    468\u001b[0m         \u001b[0;31m# have first part already, only loop while more to receive\u001b[0m\u001b[0;34m\u001b[0m\u001b[0;34m\u001b[0m\u001b[0m\n",
      "\u001b[0;32mzmq/backend/cython/socket.pyx\u001b[0m in \u001b[0;36mzmq.backend.cython.socket.Socket.recv\u001b[0;34m()\u001b[0m\n",
      "\u001b[0;32mzmq/backend/cython/socket.pyx\u001b[0m in \u001b[0;36mzmq.backend.cython.socket.Socket.recv\u001b[0;34m()\u001b[0m\n",
      "\u001b[0;32mzmq/backend/cython/socket.pyx\u001b[0m in \u001b[0;36mzmq.backend.cython.socket._recv_copy\u001b[0;34m()\u001b[0m\n",
      "\u001b[0;32m/anaconda3/lib/python3.7/site-packages/zmq/backend/cython/checkrc.pxd\u001b[0m in \u001b[0;36mzmq.backend.cython.checkrc._check_rc\u001b[0;34m()\u001b[0m\n",
      "\u001b[0;31mKeyboardInterrupt\u001b[0m: ",
      "\nDuring handling of the above exception, another exception occurred:\n",
      "\u001b[0;31mKeyboardInterrupt\u001b[0m                         Traceback (most recent call last)",
      "\u001b[0;32m<ipython-input-26-d063d19e2a83>\u001b[0m in \u001b[0;36m<module>\u001b[0;34m()\u001b[0m\n\u001b[0;32m----> 1\u001b[0;31m \u001b[0mn\u001b[0m \u001b[0;34m=\u001b[0m \u001b[0mint\u001b[0m\u001b[0;34m(\u001b[0m\u001b[0minput\u001b[0m\u001b[0;34m(\u001b[0m\u001b[0;34m)\u001b[0m\u001b[0;34m)\u001b[0m\u001b[0;34m\u001b[0m\u001b[0m\n\u001b[0m\u001b[1;32m      2\u001b[0m \u001b[0;32massert\u001b[0m \u001b[0;36m0\u001b[0m \u001b[0;34m<\u001b[0m \u001b[0mn\u001b[0m \u001b[0;34m<\u001b[0m \u001b[0;36m1000\u001b[0m\u001b[0;34m,\u001b[0m \u001b[0;34m'Number of elements in A is greater than 1000!'\u001b[0m\u001b[0;34m\u001b[0m\u001b[0m\n\u001b[1;32m      3\u001b[0m \u001b[0;34m\u001b[0m\u001b[0m\n\u001b[1;32m      4\u001b[0m \u001b[0mA\u001b[0m \u001b[0;34m=\u001b[0m \u001b[0mset\u001b[0m\u001b[0;34m(\u001b[0m\u001b[0mmap\u001b[0m\u001b[0;34m(\u001b[0m\u001b[0mint\u001b[0m\u001b[0;34m,\u001b[0m \u001b[0minput\u001b[0m\u001b[0;34m(\u001b[0m\u001b[0;34m)\u001b[0m\u001b[0;34m.\u001b[0m\u001b[0msplit\u001b[0m\u001b[0;34m(\u001b[0m\u001b[0;34m)\u001b[0m\u001b[0;34m)\u001b[0m\u001b[0;34m)\u001b[0m\u001b[0;34m\u001b[0m\u001b[0m\n\u001b[1;32m      5\u001b[0m \u001b[0mN\u001b[0m \u001b[0;34m=\u001b[0m \u001b[0mint\u001b[0m\u001b[0;34m(\u001b[0m\u001b[0minput\u001b[0m\u001b[0;34m(\u001b[0m\u001b[0;34m)\u001b[0m\u001b[0;34m)\u001b[0m\u001b[0;34m\u001b[0m\u001b[0m\n",
      "\u001b[0;32m/anaconda3/lib/python3.7/site-packages/ipykernel/kernelbase.py\u001b[0m in \u001b[0;36mraw_input\u001b[0;34m(self, prompt)\u001b[0m\n\u001b[1;32m    702\u001b[0m             \u001b[0mself\u001b[0m\u001b[0;34m.\u001b[0m\u001b[0m_parent_ident\u001b[0m\u001b[0;34m,\u001b[0m\u001b[0;34m\u001b[0m\u001b[0m\n\u001b[1;32m    703\u001b[0m             \u001b[0mself\u001b[0m\u001b[0;34m.\u001b[0m\u001b[0m_parent_header\u001b[0m\u001b[0;34m,\u001b[0m\u001b[0;34m\u001b[0m\u001b[0m\n\u001b[0;32m--> 704\u001b[0;31m             \u001b[0mpassword\u001b[0m\u001b[0;34m=\u001b[0m\u001b[0;32mFalse\u001b[0m\u001b[0;34m,\u001b[0m\u001b[0;34m\u001b[0m\u001b[0m\n\u001b[0m\u001b[1;32m    705\u001b[0m         )\n\u001b[1;32m    706\u001b[0m \u001b[0;34m\u001b[0m\u001b[0m\n",
      "\u001b[0;32m/anaconda3/lib/python3.7/site-packages/ipykernel/kernelbase.py\u001b[0m in \u001b[0;36m_input_request\u001b[0;34m(self, prompt, ident, parent, password)\u001b[0m\n\u001b[1;32m    732\u001b[0m             \u001b[0;32mexcept\u001b[0m \u001b[0mKeyboardInterrupt\u001b[0m\u001b[0;34m:\u001b[0m\u001b[0;34m\u001b[0m\u001b[0m\n\u001b[1;32m    733\u001b[0m                 \u001b[0;31m# re-raise KeyboardInterrupt, to truncate traceback\u001b[0m\u001b[0;34m\u001b[0m\u001b[0;34m\u001b[0m\u001b[0m\n\u001b[0;32m--> 734\u001b[0;31m                 \u001b[0;32mraise\u001b[0m \u001b[0mKeyboardInterrupt\u001b[0m\u001b[0;34m\u001b[0m\u001b[0m\n\u001b[0m\u001b[1;32m    735\u001b[0m             \u001b[0;32melse\u001b[0m\u001b[0;34m:\u001b[0m\u001b[0;34m\u001b[0m\u001b[0m\n\u001b[1;32m    736\u001b[0m                 \u001b[0;32mbreak\u001b[0m\u001b[0;34m\u001b[0m\u001b[0m\n",
      "\u001b[0;31mKeyboardInterrupt\u001b[0m: "
     ]
    }
   ],
   "source": [
    "n = int(input())\n",
    "assert 0 < n < 1000, 'Number of elements in A is greater than 1000!'\n",
    "\n",
    "A = set(map(int, input().split(' ')))\n",
    "N = int(input())\n",
    "assert 0 < N < 100, 'N is too large!'\n",
    "\n",
    "for _ in range(N):\n",
    "    # read the operation with arguments\n",
    "    line = input().split(' ')\n",
    "    operation = line[0]\n",
    "    length = int(line[1])\n",
    "    assert 0 < length < 100, 'Length of other set is too large!'\n",
    "    \n",
    "    s = set(map(int, input().split(' ')))\n",
    "    eval('A.' + operation + '(s)')\n",
    "    \n",
    "print(sum(A))"
   ]
  },
  {
   "cell_type": "markdown",
   "metadata": {},
   "source": [
    "#### What I learnt:\n",
    "1. <mark>|=</mark> also can be used for .update()\n",
    "2. <mark>&=</mark> also can be used for .intersection_update()\n",
    "3. <mark>-=</mark> also can be used for .difference_update()\n",
    "4. <mark>^=</mark> also can be used for .symmetric_difference_update()\n",
    "\n",
    "<hr/>\n",
    "\n",
    "### The Captain's Room\n",
    "Mr. Anant Asankhya is the manager at the INFINITE hotel. The hotel has an infinite amount of rooms.\n",
    "One fine day, a finite number of tourists come to stay at the hotel.\n",
    "The tourists consist of: A Captain and an unknown group of families consisting of $K$ members per group where $K≠1$. The Captain was given a separate room, and the rest were given one room per group.\n",
    "Mr. Anant has an unordered list of randomly arranged room entries. The list consists of the room numbers for all of the tourists. The room numbers will appear $K$ times per group except for the Captain's room.\n",
    "Mr. Anant needs you to help him find the Captain's room number.\n",
    "The total number of tourists or the total number of groups of families is not known to you.\n",
    "You only know the value of $K$ and the room number list.\n",
    "Output the Captain's room number.\n",
    "\n",
    "**Input Format**:\n",
    "1. The first line consists of an integer, $K$, the size of each group.\n",
    "2. The second line contains the unordered elements of the room number list.\n",
    "\n",
    "**Constraints**:\n",
    "1. $1 < K < 1000$"
   ]
  },
  {
   "cell_type": "code",
   "execution_count": 45,
   "metadata": {},
   "outputs": [
    {
     "name": "stdout",
     "output_type": "stream",
     "text": [
      "5\n",
      "1 2 3 6 5 4 4 2 5 3 6 1 6 5 3 2 4 1 2 5 1 4 3 6 8 4 3 1 5 6 2\n",
      "8\n"
     ]
    }
   ],
   "source": [
    "k = int(input())\n",
    "assert 1 < k < 1000, 'K is out of range!'\n",
    "\n",
    "rooms = list(map(int, input().split()))\n",
    "unique_rooms = list(set(rooms))\n",
    "\n",
    "# simple math trick\n",
    "print(int((k*sum(unique_rooms) - sum(rooms)) / (k-1)))"
   ]
  },
  {
   "cell_type": "markdown",
   "metadata": {},
   "source": [
    "#### What I learnt:\n",
    "1. Convert easily lists to sets and vice versa.\n",
    "\n",
    "<hr/>\n",
    "\n",
    "### Check Subset\n",
    "You are given two sets, $A$ and $B$. Your job is to find whether set $A$ is a subset of set $B$.\n",
    "If set $A$ is subset of set $B$, print **True**. If set $A$ is not a subset of set $B$, print __False__. Output True or False for each test case on separate lines.\n",
    "\n",
    "**Input Formats:**\n",
    "1. The first line will contain the number of test cases, $T$.\n",
    "2. The first line of each test case contains the number of elements in set $A$.\n",
    "3. The second line of each test case contains the space separated elements of set $A$.\n",
    "4. The third line of each test case contains the number of elements in set $B$.\n",
    "5. The fourth line of each test case contains the space separated elements of set $B$.\n",
    "\n",
    "**Constraints:**\n",
    "1. $0 < T < 21$\n",
    "2. 0 < Number of elements in each set < 1001"
   ]
  },
  {
   "cell_type": "code",
   "execution_count": 46,
   "metadata": {},
   "outputs": [
    {
     "name": "stdout",
     "output_type": "stream",
     "text": [
      "3\n",
      "5\n",
      "1 2 3 5 6\n",
      "9\n",
      "9 8 5 6 3 2 1 4 7\n",
      "True\n",
      "1\n",
      "2\n",
      "5\n",
      "3 6 5 4 1\n",
      "False\n",
      "7\n",
      "1 2 3 5 6 8 9\n",
      "3\n",
      "9 8 2\n",
      "False\n"
     ]
    }
   ],
   "source": [
    "T = int(input())\n",
    "assert 1 < T < 21, 'T is out of range!'\n",
    "\n",
    "# read the inputs and check the conditions\n",
    "for _ in range(T):\n",
    "    length_A = int(input())\n",
    "    assert 0 < length_A < 1001, 'Number of elements in set A is out of range!'\n",
    "    A = set(map(int, input().split()))\n",
    "    \n",
    "    length_B = int(input())\n",
    "    assert 0 < length_B < 1001, 'Number of elements in set B is out of range!'\n",
    "    B = set(map(int, input().split()))\n",
    "    \n",
    "    print(A & B == A)        "
   ]
  },
  {
   "cell_type": "markdown",
   "metadata": {},
   "source": [
    "#### What I learnt:\n",
    "1. Check if A is subset of B: <mark>A & B == A</mark>\n",
    "\n",
    "<hr/>\n",
    "\n",
    "### Check Strict Superset\n",
    "You are given a set $A$ and $N$ other sets. Your job is to find whether set $A$ is a strict superset of each of the $N$ sets. Print True, if $A$ is a strict superset of each of the $N$ sets. Otherwise, print False.\n",
    "\n",
    "A strict superset has at least one element that does not exist in its subset.\n",
    "\n",
    "**Input Format**:\n",
    "1. The first line contains the space separated elements of set $A$.\n",
    "2. The second line contains integer $N$, the number of other sets.\n",
    "3. The next $N$ lines contains the space separated elements of the other sets.\n",
    "\n",
    "**Constraints:**\n",
    "1. $0 < len(set(A)) < 501$\n",
    "2. $0 < N < 21$\n",
    "3. $0 < len(otherSets) < 101$"
   ]
  },
  {
   "cell_type": "code",
   "execution_count": 48,
   "metadata": {},
   "outputs": [
    {
     "name": "stdout",
     "output_type": "stream",
     "text": [
      "1 2 3 4 5 6 7 8 9 10 11 12 23 45 84 78\n",
      "2\n",
      "1 2 3 4 5\n",
      "100 11 12\n",
      "False\n",
      "True\n"
     ]
    }
   ],
   "source": [
    "A = set(map(int, input().split()))\n",
    "assert 0 < len(A) < 501, 'Number of elements in set A exceeds the norm!'\n",
    "\n",
    "N = int(input())\n",
    "assert 0 < N < 21, 'N is out of range!'\n",
    "\n",
    "count = 0\n",
    "for _ in range(N):\n",
    "    s = set(map(int, input().split()))\n",
    "    if (A & s == s and len(A - s) > 0):\n",
    "        count += 1\n",
    "print(count == N)"
   ]
  },
  {
   "cell_type": "markdown",
   "metadata": {},
   "source": [
    "#### What I learnt:\n",
    "1. A is superset of B if: <mark>B is subset of A and there is at least one element of in A which is not in B</mark>\n",
    "\n",
    "<hr/>\n",
    "\n",
    "### No Idea!\n",
    "There is an array of $n$ integers. There are also 2 disjoint sets, $A$ and $B$, each containing $m$ integers. You like all the integers in set $A$ and dislike all the integers in set $B$. Your initial happiness is 0. For each $i$ integer in the array, if $i \\in A$, you add $a$ to your happiness. If $i \\in B$, you add $-1$ to your happiness. Otherwise, your happiness does not change. Output your final happiness at the end. Since $A$ and $B$ are sets, they have no repeated elements. However, the array might contain duplicate elements. Output a single integer, your total happiness.\n",
    "\n",
    "**Input Format**:\n",
    "1. The first line contains integers $n$ and $m$ separated by a space.\n",
    "2. The second line contains $n$ integers, the elements of the array.\n",
    "3. The third and fourth lines contain $m$ integers, $A$ and $B$, respectively.\n",
    "\n",
    "**Constraints:**\n",
    "1. $1 \\leq n \\leq 10^5$\n",
    "2. $1 \\leq m \\leq 10^5$\n",
    "3. $1 \\leq$ _Any integer in the input_ $\\leq 10^9$"
   ]
  },
  {
   "cell_type": "code",
   "execution_count": 57,
   "metadata": {},
   "outputs": [
    {
     "name": "stdout",
     "output_type": "stream",
     "text": [
      "3 2\n",
      "1 5 3\n",
      "3 1\n",
      "5 7\n",
      "1\n"
     ]
    }
   ],
   "source": [
    "n, m = map(int, input().split())\n",
    "assert 1 <= n <= 10**5, 'n is out of range!'\n",
    "assert 1 <= m <= 10**5, 'm is out of range!'\n",
    "\n",
    "arr = list(map(int, input().split()))\n",
    "assert all(1 <= i <= 10**9 for i in arr), 'Input integer is out of range!'\n",
    "\n",
    "A = set(map(int, input().split()))\n",
    "assert all(1 <= i <= 10**9 for i in A), 'Input integer is out of range!'\n",
    "\n",
    "B = set(map(int, input().split()))\n",
    "assert all(1 <= i <= 10**9 for i in B), 'Input integer is out of range!'\n",
    "\n",
    "happiness = 0\n",
    "for i in arr:\n",
    "    if A & set([i]) == set([i]):\n",
    "        happiness += 1\n",
    "    if B & set([i]) == set([i]):\n",
    "        happiness -= 1\n",
    "print(happiness)"
   ]
  },
  {
   "cell_type": "markdown",
   "metadata": {},
   "source": [
    "#### What I learnt:\n",
    "1. You should create set with integers by using list: <mark>A = set([i])</mark>"
   ]
  }
 ],
 "metadata": {
  "kernelspec": {
   "display_name": "Python 3",
   "language": "python",
   "name": "python3"
  },
  "language_info": {
   "codemirror_mode": {
    "name": "ipython",
    "version": 3
   },
   "file_extension": ".py",
   "mimetype": "text/x-python",
   "name": "python",
   "nbconvert_exporter": "python",
   "pygments_lexer": "ipython3",
   "version": "3.7.0"
  }
 },
 "nbformat": 4,
 "nbformat_minor": 2
}
