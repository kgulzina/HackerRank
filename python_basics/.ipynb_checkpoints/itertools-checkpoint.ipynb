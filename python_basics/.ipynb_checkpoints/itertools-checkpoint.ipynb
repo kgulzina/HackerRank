{
 "cells": [
  {
   "cell_type": "markdown",
   "metadata": {},
   "source": [
    "# Itertools\n",
    "\n",
    "### itertools.product()\n",
    "This tool computes the cartesian product of input variables. Equivalent to nested for-loops. \n",
    "<mark>product(A, B) = ((x, y) for x in A for y in B)</mark>\n",
    "\n",
    "We are given a two lists $A$ and $B$. Your task is to compute their cartesian product $A$X$B$. Output the space separated tuples of the cartesian product.\n",
    "\n",
    "**Input Format**\n",
    "1. The first line contains the space separated elements of list $A$.\n",
    "2. The second line contains the space separated elements of list $B$.\n",
    "3. Both lists have no duplicate integer elements.\n",
    "\n",
    "**Constraints:**\n",
    "1. $0 < A < 30$\n",
    "2. $0 < B < 30$"
   ]
  },
  {
   "cell_type": "code",
   "execution_count": 21,
   "metadata": {},
   "outputs": [
    {
     "name": "stdout",
     "output_type": "stream",
     "text": [
      "1 2 3\n",
      "4 5 6\n",
      "(1, 4) (1, 5) (1, 6) (2, 4) (2, 5) (2, 6) (3, 4) (3, 5) (3, 6)\n"
     ]
    }
   ],
   "source": [
    "from itertools import product\n",
    "\n",
    "A = list(map(int, input().split()))\n",
    "assert all(0 <= i < 30 for i in A), 'A is out of range!'\n",
    "\n",
    "B = list(map(int, input().split()))\n",
    "assert all(0 <= i < 30 for i in B), 'B is out of range!'\n",
    "\n",
    "print(' '.join(list(map(str, product(A, B)))))"
   ]
  },
  {
   "cell_type": "markdown",
   "metadata": {},
   "source": [
    "#### What I learnt:\n",
    "1. <mark>.zip_longest()</mark> outputs a zip object with tuples as elements. It's different from zip() since it doesn't stop even one iterable is shorter than the other ones. (There might be infinite number of iterables)\n",
    "2. Elements in cartesian product are tuples and should be converted to string\n",
    "\n",
    "<hr/>\n",
    "\n",
    "### itertools.permutations()\n",
    "Selecting items without replacement and order IS important. Formula = $P(n, r) = \\frac{n!}{(n-r)!}$\n",
    "\n",
    "We are given a string $S$. Our task is to print all possible permutations of size $k$ of the string in lexicographic sorted order.\n",
    "\n",
    "**Input Format**:\n",
    "1. A single line containing the space separated string $S$ and the integer value $k$.\n",
    "\n",
    "**Constraints**:\n",
    "1. $0 < k \\leq len(S)$\n",
    "2. The string contains only UPPERCASE characters."
   ]
  },
  {
   "cell_type": "code",
   "execution_count": 62,
   "metadata": {},
   "outputs": [
    {
     "name": "stdout",
     "output_type": "stream",
     "text": [
      "HACK 2\n",
      "AC\n",
      "AH\n",
      "AK\n",
      "CA\n",
      "CH\n",
      "CK\n",
      "HA\n",
      "HC\n",
      "HK\n",
      "KA\n",
      "KC\n",
      "KH\n"
     ]
    }
   ],
   "source": [
    "from itertools import permutations\n",
    "import string\n",
    "\n",
    "s, k = input().split()\n",
    "k = int(k)\n",
    "\n",
    "assert 0 < k <= len(s), 'k is smaller than the length of S!'\n",
    "assert all(c.isupper() for c in s), 'All letters in S should be uppercase!'\n",
    "\n",
    "perms = list(permutations(sorted(s), k))\n",
    "for p in perms:\n",
    "    print(''.join(p))"
   ]
  },
  {
   "cell_type": "markdown",
   "metadata": {},
   "source": [
    "#### What I learnt:\n",
    "1. This tool returns successive $r$ length permutations of elements in an iterable: (like real permutation)\n",
    "2. len(list(itertools.permutations(*iterable*))) == len(*iterable*)!\n",
    "3. You can specify which length of iterable to permutate exactly\n",
    "4. Permutations are printed in lexigoraphic (alphabetic) sorted order if iterable is sorted\n",
    "\n",
    "<hr/>\n",
    "\n",
    "### itertools.combinations()\n",
    "No replacement and order is NOT important. Formula = $C(n, r) = \\frac{n!}{(n-r)!r!}$\n",
    "\n",
    "You are given a string $S$. Your task is to print all possible combinations, up to size $k$, of the string in lexicographic sorted order. Input format and constraints are the same. Print the different combinations of string $S$ on separate lines."
   ]
  },
  {
   "cell_type": "code",
   "execution_count": 81,
   "metadata": {},
   "outputs": [
    {
     "name": "stdout",
     "output_type": "stream",
     "text": [
      "HACK 2\n",
      "A\n",
      "C\n",
      "H\n",
      "K\n",
      "AC\n",
      "AH\n",
      "AK\n",
      "CH\n",
      "CK\n",
      "HK\n"
     ]
    }
   ],
   "source": [
    "from itertools import combinations\n",
    "import string\n",
    "\n",
    "s, k = input().split()\n",
    "k = int(k)\n",
    "\n",
    "assert 0 < k <= len(s), 'k is smaller than the length of S!'\n",
    "assert all(c.isupper() for c in s), 'All letters in S should be uppercase!'\n",
    "\n",
    "combs = []\n",
    "for i in range(1, k+1):\n",
    "    combs += list(combinations(sorted(s), i))\n",
    "for c in combs:\n",
    "    print(''.join(c))"
   ]
  },
  {
   "cell_type": "markdown",
   "metadata": {},
   "source": [
    "#### What I learnt:\n",
    "1. The same logic as in permutations (structure is the same as in the true combinations formula)\n",
    "\n",
    "<hr/>\n",
    "\n",
    "### itertools.combinations_with_replacement()\n",
    "Order is NOT important, repetitions are allowed! Formula = $C(n, r) = \n",
    "\\frac{(r + n - 1)!}{(r!)(n-1)!}$\n",
    "\n",
    "You are given a string $S$. Your task is to print all possible combinations, up to size $k$, of the string in lexicographic sorted order. Input format and constraints are the same. Print the different combinations of string $S$ on separate lines."
   ]
  },
  {
   "cell_type": "code",
   "execution_count": 82,
   "metadata": {},
   "outputs": [
    {
     "name": "stdout",
     "output_type": "stream",
     "text": [
      "HACK 2\n",
      "AA\n",
      "AC\n",
      "AH\n",
      "AK\n",
      "CC\n",
      "CH\n",
      "CK\n",
      "HH\n",
      "HK\n",
      "KK\n"
     ]
    }
   ],
   "source": [
    "from itertools import combinations_with_replacement\n",
    "import string\n",
    "\n",
    "s, k = input().split()\n",
    "k = int(k)\n",
    "\n",
    "assert 0 < k <= len(s), 'k is smaller than the length of S!'\n",
    "assert all(c.isupper() for c in s), 'All letters in S should be uppercase!'\n",
    "\n",
    "perms = list(combinations_with_replacement(sorted(s), k))\n",
    "for p in perms:\n",
    "    print(''.join(p))"
   ]
  },
  {
   "cell_type": "markdown",
   "metadata": {},
   "source": [
    "#### What I learnt:\n",
    "1. Formula has the same usage as combinations formula\n",
    "\n",
    "<hr/>\n",
    "\n",
    "### Compress the String!\n",
    "You are given a string $S$. Suppose a character $c$ occurs consecutively $X$ times in the string. Replace these consecutive occurrences of the character $c$ with $(X, c)$ in the string.\n",
    "\n",
    "**Constraints:**\n",
    "1. All characters of $S$ denote integeres between 0 and 9\n",
    "2. $0 \\leq len(S) \\leq 10^4$"
   ]
  },
  {
   "cell_type": "code",
   "execution_count": 101,
   "metadata": {},
   "outputs": [
    {
     "name": "stdout",
     "output_type": "stream",
     "text": [
      "1124355\n",
      "(2, 1) (1, 2) (1, 4) (1, 3) (2, 5)\n"
     ]
    },
    {
     "data": {
      "text/plain": [
       "[(2, 1), (1, 2), (1, 4), (1, 3), (2, 5)]"
      ]
     },
     "execution_count": 101,
     "metadata": {},
     "output_type": "execute_result"
    }
   ],
   "source": [
    "from itertools import groupby\n",
    "\n",
    "s = input()\n",
    "assert 0 <= len(s) <= 10**4, 'Length of S is out of range!'\n",
    "assert all(c.isdigit() for c in s), 'String should consist of integers only!'\n",
    "\n",
    "print(' '.join(list(map(str, [(len(list(c)), int(k)) for k, c in groupby(s)]))))"
   ]
  },
  {
   "cell_type": "markdown",
   "metadata": {},
   "source": [
    "#### What I learnt:\n",
    "1. Output of <mark>groupby()</mark> is a grouping object\n",
    "2. It has tuples of two elements: (k, c)\n",
    "3. k = is an element from iterable and c is the grouper object\n",
    "4. This groupby() is different from Pandas groupby()\n",
    "\n",
    "<hr/>\n",
    "\n",
    "### Iterables and Iterators\n",
    "You are given a list of $N$ lowercase English letters. For a given integer $K$, you can select any $K$ indices (assume 1-based indexing) with a **uniform probability** from the list. Find the probability that at least one of the $K$ indices selected will contain the letter: '$a$'. Output a single line consisting of the probability that at least one of the $K$ indices selected contains the letter:'$a$'.\n",
    "\n",
    "**Input Format**\n",
    "The input consists of three lines. \n",
    "1. The first line contains the integer $N$, denoting the length of the list. \n",
    "2. The next line consists of $N$ space-separated lowercase English letters, denoting the elements of the list.\n",
    "3. The third and the last line of input contains the integer $K$, denoting the number of indices to be selected.\n",
    "\n",
    "**Constraints:**\n",
    "1. $1 \\leq N \\leq 10$\n",
    "2. $1 \\leq K \\leq N$\n",
    "3. All letters in a string are English lowercase letters"
   ]
  },
  {
   "cell_type": "code",
   "execution_count": 144,
   "metadata": {},
   "outputs": [
    {
     "name": "stdout",
     "output_type": "stream",
     "text": [
      "6\n",
      "a j k l h k\n",
      "2\n",
      "[('a', 'j'), ('a', 'k'), ('a', 'l'), ('a', 'h'), ('a', 'k'), ('j', 'k'), ('j', 'l'), ('j', 'h'), ('j', 'k'), ('k', 'l'), ('k', 'h'), ('k', 'k'), ('l', 'h'), ('l', 'k'), ('h', 'k')]\n",
      "[]\n",
      "0.000\n"
     ]
    }
   ],
   "source": [
    "import itertools\n",
    "\n",
    "N = int(input())\n",
    "assert 0 <= N <= 10, 'N is out of range!'\n",
    "\n",
    "s = input().split()\n",
    "assert all(c.islower() for c in s), 'Letters should be lower case!'\n",
    "\n",
    "K = int(input())\n",
    "assert 0 <= K <= N, 'K is out of range!'\n",
    "\n",
    "combs = list(itertools.combinations(s, K)) # all combinations\n",
    "combs_a = list(filter(lambda x: 'a' in x, combs)) #combinations which contain 'a'\n",
    "\n",
    "# calculate the probability\n",
    "print('{0:.3f}'.format(len(combs_a) / len(combs)))"
   ]
  },
  {
   "cell_type": "markdown",
   "metadata": {},
   "source": [
    "#### What I learnt:\n",
    "1. itertools module contains different useful functions: <mark>count(), compress(), dropwhile(), groupby(), ifilter(), ifilterfalse(), islice(), imap(), starmap(), tee(), takewhile(), izip(), izip_longest()</mark>\n",
    "2. <mark>takewhile(), dropwhile()</mark> takes or drops only SUCCESIVE elements which qualify to True. If it sees a False while itereating, it stops.\n",
    "3. <mark>filter()</mark> is like list comprehension, built-in operator\n",
    "4. It's much more **efficient** to use list comprehensions, instead of map() or filter()\n",
    "5. scipy.stats.binom(): binomial distribution's all features\n",
    "\n",
    "<hr/>\n",
    "\n",
    "### Maximize it!\n",
    "We are given a function $f(X) = X^2$. We are also given $K$ lists. The $i^{th}$ list consists of $N_i$ elements. You have to pick one element from each list so that the value from the equation below is maximized: $$S = (f(X_1) + f(X_2) + ... + f(X_k))\\% M$$ $X_i$ denotes the element picked from the $i^{th}$ list . Find the maximized value  obtained. Note that you need to take exactly one element from each list, not necessarily the largest element. You add the squares of the chosen elements and perform the modulo operation. The maximum value that you can obtain, will be the answer to the problem.\n",
    "Output a single integer denoting the value $S_{max}$.\n",
    "\n",
    "**Input Format**:\n",
    "1. The first line contains 2 space separated integers $K$ and $M$.\n",
    "2. The next $K$ lines each contains an integer $N_i$, denoting the number of elements in the $i^{th}$ list, followed by $N_i$ space separated integers denoting the elements in the list.\n",
    "\n",
    "**Constraints**:\n",
    "1. $1 \\leq K \\leq 7$\n",
    "2. $1 \\leq M \\leq 1000$\n",
    "3. $1 \\leq N_i \\leq 7$\n",
    "4. $1 \\leq$ *Magnitude of elements in list* $\\leq 10^9$"
   ]
  },
  {
   "cell_type": "code",
   "execution_count": 190,
   "metadata": {},
   "outputs": [
    {
     "name": "stdout",
     "output_type": "stream",
     "text": [
      "2 50\n",
      "1 2 3\n",
      "5 6 7\n",
      "45\n"
     ]
    }
   ],
   "source": [
    "import itertools\n",
    "\n",
    "K, M = map(int, input().split())\n",
    "assert 1 <= K <= 7, 'K is out of range'\n",
    "assert 1 <= M <= 1000, 'M is out of range'\n",
    "\n",
    "lists = []\n",
    "for k in range(K):\n",
    "    temp = input().split()\n",
    "    assert 1 <= int(temp[0]) <= 8, 'Number of elements in a list is out of range!'\n",
    "    lists.insert(k, list(map(int, temp[1:])))\n",
    "    assert all(1 <= int(i) <= 10**9 for i in lists[k]), 'Value/s of element/s in a list is/are out of range!'\n",
    "\n",
    "# get the cartesian product of all possible integers\n",
    "cartesin_products = itertools.product(*lists)\n",
    "\n",
    "# to optimize, we'll try to not iterate over all possible cartesian product combinations. Use conditions:\n",
    "s_max = 0\n",
    "for comb in cartesin_products:\n",
    "    temp = (sum([x**2 for x in comb])) % M\n",
    "    if temp == M-1:\n",
    "        s_max = M-1\n",
    "        break\n",
    "    else:\n",
    "        if s_max < temp:\n",
    "            s_max = temp\n",
    "        else:\n",
    "            continue\n",
    "\n",
    "print(s_max)    "
   ]
  },
  {
   "cell_type": "markdown",
   "metadata": {},
   "source": [
    "#### What I learnt:\n",
    "1. Use * pointer to take out (**unnest**) elements from a list\n",
    "2. Use *cartesian product* to find all combinations of iterables\n",
    "3. You CANNOT mutate empty list! --> <mark>insert()</mark> only!"
   ]
  }
 ],
 "metadata": {
  "kernelspec": {
   "display_name": "Python 3",
   "language": "python",
   "name": "python3"
  },
  "language_info": {
   "codemirror_mode": {
    "name": "ipython",
    "version": 3
   },
   "file_extension": ".py",
   "mimetype": "text/x-python",
   "name": "python",
   "nbconvert_exporter": "python",
   "pygments_lexer": "ipython3",
   "version": "3.7.0"
  }
 },
 "nbformat": 4,
 "nbformat_minor": 2
}
