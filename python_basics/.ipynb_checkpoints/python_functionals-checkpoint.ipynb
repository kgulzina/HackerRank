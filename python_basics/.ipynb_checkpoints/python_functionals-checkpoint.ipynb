{
 "cells": [
  {
   "cell_type": "markdown",
   "metadata": {},
   "source": [
    "# Python Functionals\n",
    "\n",
    "### Map and Lambda Function\n",
    "You have to generate a list of the first $N$ fibonacci numbers,  being the first number. Then, apply the map function and a lambda expression to cube each fibonacci number and print the list. A list on a single line containing the cubes of the first $N$ fibonacci numbers.\n",
    "\n",
    "**Input Format**:\n",
    "1. One line of input: an integer $N$.\n",
    "\n",
    "**Constraints:**\n",
    "1. $0 \\leq N \\leq 15$"
   ]
  },
  {
   "cell_type": "code",
   "execution_count": 8,
   "metadata": {},
   "outputs": [
    {
     "name": "stdout",
     "output_type": "stream",
     "text": [
      "0\n",
      "[]\n"
     ]
    }
   ],
   "source": [
    "cube = lambda x: x**3\n",
    "\n",
    "def fibonacci(n):\n",
    "    assert n >= 0, 'n is not valid!'\n",
    "    if n == 0:\n",
    "        return []\n",
    "    elif n == 1:\n",
    "        return [0]\n",
    "    elif n == 2:\n",
    "        return [0, 1]\n",
    "    else:\n",
    "        numbers = [0, 1]\n",
    "        for i in range(2, n):\n",
    "            numbers.append(numbers[i-1] + numbers[i-2])\n",
    "        return numbers\n",
    "    \n",
    "N = int(input())\n",
    "assert 0 <= N <= 15, 'N is out of range!'\n",
    "\n",
    "print(list(map(cube, fibonacci(N))))"
   ]
  },
  {
   "cell_type": "markdown",
   "metadata": {},
   "source": [
    "#### What I learnt:\n",
    "1. <mark>lambda</mark> is very handy in functional and GUI programming\n",
    "2. <mark>**lambda** x, y: x + y</mark>: which inputs: what output\n",
    "3. Declare lambda as a function: f1 = lambda input: output\n",
    "4. lambda functions does not have *return*\n",
    "5. lambda can be used in lists and dictionaries\n",
    "\n",
    "<hr/>\n",
    "\n",
    "### Reduce Function\n",
    "Given a list of rational numbers,find their product. Print only one line containing the numerator and denominator of the product of the numbers in the list in its simplest form, i.e. numerator and denominator have no common divisor other than $1$.\n",
    "\n",
    "**Input Format**:\n",
    "1. First line contains $n$, the number of rational numbers.\n",
    "2. The $i^{th}$ of next $n$ lines contain two integers each, the numerator ($N_i$) and denominator ($D_i$) of the $i^{th}$ rational number in the list.\n",
    "\n",
    "**Constraints**:\n",
    "1. $1 \\leq n \\leq 100$\n",
    "2. $1 \\leq N_i, D_i \\leq 10^9$"
   ]
  },
  {
   "cell_type": "code",
   "execution_count": 33,
   "metadata": {},
   "outputs": [
    {
     "name": "stdout",
     "output_type": "stream",
     "text": [
      "3\n",
      "1 2\n",
      "3 4\n",
      "10 6\n",
      "5 8\n"
     ]
    }
   ],
   "source": [
    "from fractions import Fraction\n",
    "from functools import reduce\n",
    "\n",
    "def product(fracs):\n",
    "    t = reduce(lambda x, y: x*y, fracs)\n",
    "    return t.numerator, t.denominator\n",
    "\n",
    "n = int(input())\n",
    "assert 1 <= n <= 100\n",
    "\n",
    "fracs = []\n",
    "for _ in range(n):\n",
    "    temp = list(map(int, input().split()))\n",
    "    assert all(1 <= i <= 10**9 for i in temp), 'Denominator and Numerator is out of range!'\n",
    "    fracs.append(Fraction(*temp))\n",
    "    \n",
    "result = product(fracs)\n",
    "print(*result)"
   ]
  },
  {
   "cell_type": "markdown",
   "metadata": {},
   "source": [
    "#### What I learnt:\n",
    "1. <mark>reduce()</mark> function used to iterate over an a list. It applies a function of two arguments cumulatively on a list of objects in succession from left to right to reduce it to one value.\n",
    "2. It may take *initial value*\n",
    "3. Concept is close to <mark>map()</mark> function, but takes two arguments instead of two.\n",
    "4. You can take out any map, groupby, product, etc. object results by *\n",
    "5. Take out values/elements from iterables by *\n",
    "\n",
    "<hr/>\n",
    "\n",
    "### Validating Email Address With a Filter\n",
    "We are given an integer $N$ followed by $N$ email addresses. Our task is to print a list containing only valid email addresses in lexicographical order.\n",
    "\n",
    "Valid email addresses must follow these rules:\n",
    "- It must have the username@websitename.extension format type.\n",
    "- The username can only contain letters, digits, dashes and underscores.\n",
    "- The website name can only have letters and digits.\n",
    "- The maximum length of the extension is $3$.\n",
    "\n",
    "Output a list containing the valid email addresses in lexicographical order. If the list is empty, just output an empty list, [].\n",
    "\n",
    "**Input Format**:\n",
    "1. The first line of input is the integer $N$, the number of email addresses.\n",
    "2. $N$ lines follow, each containing a string.\n",
    "\n",
    "**Constraints**:\n",
    "1. Each line is a non-empty string."
   ]
  },
  {
   "cell_type": "code",
   "execution_count": 50,
   "metadata": {},
   "outputs": [
    {
     "name": "stdout",
     "output_type": "stream",
     "text": [
      "2\n",
      "@something.com\n",
      "hah@\n",
      "[]\n"
     ]
    }
   ],
   "source": [
    "# NOT using REGEX\n",
    "\n",
    "def fun(s):\n",
    "    # make sure string has '@', then split out the name\n",
    "    if '@' not in s:\n",
    "        return False\n",
    "    name, temp = s.split('@', 1)\n",
    "    if len(name) == 0:\n",
    "        return False\n",
    "    if not all(c.isalnum() or c == '-' or c == '_' for c in name):\n",
    "        return False\n",
    "    \n",
    "    # make sure temp has '.', then split out the website name and extension\n",
    "    if '.' not in temp:\n",
    "        return False\n",
    "    websitename, extension = temp.split('.')\n",
    "    if len (websitename) == 0 or len(extension) == 0:\n",
    "        return False\n",
    "    if not all(c.isalnum() for c in websitename):\n",
    "        return False\n",
    "    if len(extension) > 3:\n",
    "        return False\n",
    "    return True\n",
    "    \n",
    "\n",
    "def filter_mail(emails):\n",
    "    return list(filter(fun, emails))\n",
    "\n",
    "# collect all inputs\n",
    "n = int(input())\n",
    "emails = []\n",
    "for _ in range(n):\n",
    "    emails.append(input())\n",
    "\n",
    "filtered_emails = filter_mail(emails)\n",
    "filtered_emails.sort()\n",
    "print(filtered_emails)"
   ]
  },
  {
   "cell_type": "markdown",
   "metadata": {},
   "source": [
    "#### What I learnt:\n",
    "1. We can easily **filter** a list by using *lambda* function: <mark>filter(lambda, list)</mark>\n",
    "2. lambda function in filtering can be some **condition**\n",
    "3. The same conditioning can also be used in <mark>list comprehensions</mark>: `[int(i) for i in range(6) if i%2 == 0]`\n",
    "4. Any string validation can also be used by **Regex**"
   ]
  }
 ],
 "metadata": {
  "kernelspec": {
   "display_name": "Python 3",
   "language": "python",
   "name": "python3"
  },
  "language_info": {
   "codemirror_mode": {
    "name": "ipython",
    "version": 3
   },
   "file_extension": ".py",
   "mimetype": "text/x-python",
   "name": "python",
   "nbconvert_exporter": "python",
   "pygments_lexer": "ipython3",
   "version": "3.7.0"
  }
 },
 "nbformat": 4,
 "nbformat_minor": 2
}
