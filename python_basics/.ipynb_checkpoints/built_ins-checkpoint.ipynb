{
 "cells": [
  {
   "cell_type": "markdown",
   "metadata": {},
   "source": [
    "# Built-Ins\n",
    "\n",
    "### Zipped!\n",
    "The National University conducts an examination of $N$ students in $X$ subjects. Compute the average scores of each student. \n",
    "**Input format:**\n",
    "1. First line contains $N$ and $X$\n",
    "2. Next $X$ lines contain space separeted marks obtained by different students\n",
    "\n",
    "**Constraints:**\n",
    "1. $0 < N \\leq 100$\n",
    "2. $0 < X \\leq 100 $\n",
    "3. Print the average scores of each student on a separate line\n",
    "4. Each score should be correct up to 1 decimal place"
   ]
  },
  {
   "cell_type": "code",
   "execution_count": null,
   "metadata": {},
   "outputs": [],
   "source": [
    "# read number of students and subjects from STDIN\n",
    "n, x = map(int, input().split())\n",
    "assert 0 < n <= 100, 'N is out of range!'\n",
    "assert 0 < x <= 100, 'X is out of range!'\n",
    "\n",
    "# read marks of n students\n",
    "marks = []\n",
    "for i in range(x):\n",
    "    temp = list(map(float, input().split()))\n",
    "    marks += [temp]\n",
    "\n",
    "zipped_marks = list(zip(*marks))\n",
    "for i in range(n):\n",
    "    avg_score = sum(zipped_marks[i]) / x\n",
    "    print('{0:.1f}'.format(avg_score))"
   ]
  },
  {
   "cell_type": "markdown",
   "metadata": {},
   "source": [
    "#### What I learnt:\n",
    "1. <mark>map()</mark> function in Python 3 returns a map object! You have to manually convert it to a list!\n",
    "2. <mark>zip()</mark> function in Python 3 also returns zip object! You have to manually convert it to a <mark>list</mark> or a <mark>set</mark>.\n",
    "3. If you add two lists: L1 + L2 ==> they will be just appended!\n",
    "4. Make list of lists by: list += [temp_list]\n",
    "5. List of list should be zipped as: <mark>zip(__*__list of lists)</mark>\n",
    "\n",
    "<hr/>\n",
    "\n",
    "### Python Evaluation\n",
    "You are given an expression in a line. Read that line as a string variable, such as var, and print the result using eval(var). __Constraint:__ Input string is less than 100 characters."
   ]
  },
  {
   "cell_type": "code",
   "execution_count": 78,
   "metadata": {},
   "outputs": [
    {
     "name": "stdout",
     "output_type": "stream",
     "text": [
      "print('haha')\n",
      "haha\n"
     ]
    }
   ],
   "source": [
    "var = input()\n",
    "assert len(var) < 100, 'String is too long!'\n",
    "\n",
    "eval(var)"
   ]
  },
  {
   "cell_type": "markdown",
   "metadata": {},
   "source": [
    "#### What I learnt:\n",
    "1. <mark>input(</mark>) is itself a string\n",
    "2. <mark>eval()</mark> takes in strings **only**!\n",
    "\n",
    "<hr/>\n",
    "\n",
    "### Any or All\n",
    "You are given a space separated list of integers. If all the integers are positive, then you need to check if any integer is a palindromic integer. First line contains $N$ integers, next line contains those $N$ integers. **Constraints:** $0 < N < 100$"
   ]
  },
  {
   "cell_type": "code",
   "execution_count": 83,
   "metadata": {},
   "outputs": [
    {
     "name": "stdout",
     "output_type": "stream",
     "text": [
      "2\n",
      "121 5543\n",
      "True\n"
     ]
    }
   ],
   "source": [
    "n = int(input())\n",
    "assert 0 < n < 100, 'N is out of range!'\n",
    "\n",
    "nums = list(map(int, input().split()))\n",
    "if all(i > 0 for i in nums):\n",
    "    print(any(str(i) == str(i)[::-1] for i in nums))\n",
    "else:\n",
    "    print(False)"
   ]
  },
  {
   "cell_type": "markdown",
   "metadata": {},
   "source": [
    "#### What I learnt:\n",
    "1. Better to check if number is <mark>palindrome</mark> by converting it to STRINGS!\n",
    "\n",
    "<hr/>\n",
    "\n",
    "### ginortS\n",
    "Given a string, sort $S$, which contains only alphanumeric characters, in the following manner:\n",
    "1. All sorted lowercase letters are ahead of uppercase letters.\n",
    "2. All sorted uppercase letters are ahead of digits.\n",
    "3. All sorted odd digits are ahead of sorted even digits.\n",
    "\n",
    "**Constraints:**\n",
    "$0 < len(S) < 1000$"
   ]
  },
  {
   "cell_type": "code",
   "execution_count": 94,
   "metadata": {},
   "outputs": [
    {
     "name": "stdout",
     "output_type": "stream",
     "text": [
      "'Sorting1234'\n",
      "''ginortS1324\n"
     ]
    }
   ],
   "source": [
    "s = input()\n",
    "assert 0 < len(s) < 1000, 'String is too long!'\n",
    "\n",
    "uppercase = []\n",
    "lowercase = []\n",
    "odd = []\n",
    "even = []\n",
    "\n",
    "for c in s:\n",
    "    if 48 <= ord(c) <= 57:\n",
    "        if int(c)%2 == 0:\n",
    "            even.append(c)\n",
    "        else:\n",
    "            odd.append(c)\n",
    "    elif 65 <= ord(c) <= 90:\n",
    "        uppercase.append(c)\n",
    "    else:\n",
    "        lowercase.append(c)\n",
    "        \n",
    "sorted_string = ''.join(sorted(lowercase) + sorted(uppercase) + sorted(odd) + sorted(even))\n",
    "print(sorted_string)"
   ]
  },
  {
   "cell_type": "markdown",
   "metadata": {},
   "source": [
    "#### What I learnt:\n",
    "1. Cluster characters by their ASCII order: <mark>ord(c)</mark>\n",
    "\n",
    "<hr/>\n",
    "\n",
    "### Athlete Sort\n",
    "You are required to sort the data based on the $K^{th}$ attribute and print the final resulting table. If two attributes are the same for different rows, for example, if two atheletes are of the same age, print the row that appeared first in the input. \n",
    "**Input Formats:**\n",
    "1. The first line contains $N$ and $M$ separated by a space.\n",
    "2. The next $N$ lines each contain $M$ elements\n",
    "3. The last line contains $K$.\n",
    "\n",
    "__Constraints:__\n",
    "1. $1 \\leq N, M \\leq 1000$\n",
    "2. $0 \\leq K < M$\n",
    "3. Each element $\\leq 1000$"
   ]
  },
  {
   "cell_type": "code",
   "execution_count": 107,
   "metadata": {},
   "outputs": [
    {
     "name": "stdout",
     "output_type": "stream",
     "text": [
      "2 2\n",
      "1 2\n",
      "0 7\n",
      "0\n",
      "0 7\n",
      "1 2\n"
     ]
    }
   ],
   "source": [
    "import math\n",
    "import os\n",
    "import random\n",
    "import re\n",
    "import sys\n",
    "\n",
    "if __name__ == '__main__':\n",
    "    n, m = map(int, input().split())\n",
    "    assert all(1 <= i <= 1000 for i in [n, m]), 'N and M are out of range!'\n",
    "    \n",
    "    # keep the table (dataframe) in an array = list of lists\n",
    "    arr = []\n",
    "    for i in range(n):\n",
    "        arr.append(list(map(int, input().rstrip().split())))\n",
    "        assert all(val <= 1000 for val in arr[i]), 'Some element in table has greater value than 1000!'\n",
    "        \n",
    "    k = int(input())\n",
    "    assert 0 <= k <= m, 'K is out of range!'\n",
    "    \n",
    "    arr.sort(key = lambda x: x[k])\n",
    "    for line in arr:\n",
    "        print(' '.join([str(i) for i in line]))"
   ]
  },
  {
   "cell_type": "markdown",
   "metadata": {},
   "source": [
    "#### What I learnt:\n",
    "1. <mark>list of list.sort(key)</mark>: sorts the list w.r.t. to some *key* ~ specific index\n",
    "2. <mark>list.sort()</mark>: just sorts a list\n",
    "3. <mark>.join()</mark> does not work for integers. Strings ONLY!\n",
    "4. <mark>list of lists.sort(key = lambda x: x[k])</mark>: sort lists w.r.t. specific column!"
   ]
  }
 ],
 "metadata": {
  "kernelspec": {
   "display_name": "Python 3",
   "language": "python",
   "name": "python3"
  },
  "language_info": {
   "codemirror_mode": {
    "name": "ipython",
    "version": 3
   },
   "file_extension": ".py",
   "mimetype": "text/x-python",
   "name": "python",
   "nbconvert_exporter": "python",
   "pygments_lexer": "ipython3",
   "version": "3.7.0"
  }
 },
 "nbformat": 4,
 "nbformat_minor": 2
}
