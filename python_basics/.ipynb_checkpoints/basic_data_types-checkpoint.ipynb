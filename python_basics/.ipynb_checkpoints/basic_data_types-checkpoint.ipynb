{
 "cells": [
  {
   "cell_type": "markdown",
   "metadata": {},
   "source": [
    "# Basic Data Types\n",
    "\n",
    "### List comprehesions\n",
    "\n",
    "<hr />\n",
    "\n",
    "### Lists\n",
    "Write a chunk of code which takes in list commands with the corresponding arguments and evaluates them. First line is the number of such commands, following commands come each in a new line.\n",
    "**Constraints**: arguments should be integers"
   ]
  },
  {
   "cell_type": "code",
   "execution_count": 2,
   "metadata": {},
   "outputs": [
    {
     "name": "stdout",
     "output_type": "stream",
     "text": [
      "10\n",
      "print\n",
      "[]\n",
      "insert 0 5\n",
      "insert 1 9\n",
      "insert 3 6\n",
      "print\n",
      "[5, 9, 6]\n",
      "pop\n",
      "print\n",
      "[5, 9]\n",
      "reverse\n",
      "print\n",
      "[9, 5]\n",
      "sort\n"
     ]
    }
   ],
   "source": [
    "# read the first line: N\n",
    "N = int(input())\n",
    "\n",
    "# later manipulate this empty list\n",
    "l = []\n",
    "\n",
    "for n in range(N):\n",
    "    input_line = input().split()\n",
    "    command = input_line[0]\n",
    "    args = input_line[1:]\n",
    "    if command != 'print':\n",
    "        command += '(' + ','.join(args) + ')'\n",
    "        eval('l.' + command)\n",
    "    else:\n",
    "        print(l)"
   ]
  },
  {
   "cell_type": "markdown",
   "metadata": {},
   "source": [
    "#### What I learnt:\n",
    "\n",
    "1. Each call of <mark>input()</mark> in code chunk reads a new line in the actual *raw* <mark>input()</mark>\n",
    "2. Join elements of list into a string with some character: <mark>','.join(args)</mark>\n",
    "3. Split string into multiple arguments stored in a list: <mark>str.split()</mark>\n",
    "4. <mark>eval()</mark> evaluates a string as a python code\n",
    "\n",
    "<hr/>\n",
    "\n",
    "### Tuples\n",
    "Given an integer, <em>n</em>, and <em>n</em> space-separated integers as input, create a tuple, <em>t</em>, of those <em>n</em> integers. Then compute and print the result of <em>hash()</em>."
   ]
  },
  {
   "cell_type": "code",
   "execution_count": null,
   "metadata": {},
   "outputs": [],
   "source": [
    "if __name__ == '__main__':\n",
    "    n = int(input())\n",
    "    t = tuple(int(i) for i in input().split())\n",
    "    print(hash(t))"
   ]
  },
  {
   "cell_type": "markdown",
   "metadata": {},
   "source": [
    "#### What I learnt:\n",
    "1. Tuple is an unmutable list\n",
    "2. Convert tuple into a list easily: <mark>tuple(list)</mark>\n",
    "3. Use list comprehensions for quicker change of mode of arguments of a list\n",
    "4. <mark>hash(t)</mark> returns hash value of any python object\n",
    "5. Markdown ignores and messes up * and _ signs, which are used for <em>italics</em> and <strong>bold</strong>. So better to use HTML version of italics and bold."
   ]
  }
 ],
 "metadata": {
  "kernelspec": {
   "display_name": "Python 3",
   "language": "python",
   "name": "python3"
  },
  "language_info": {
   "codemirror_mode": {
    "name": "ipython",
    "version": 3
   },
   "file_extension": ".py",
   "mimetype": "text/x-python",
   "name": "python",
   "nbconvert_exporter": "python",
   "pygments_lexer": "ipython3",
   "version": "3.7.0"
  }
 },
 "nbformat": 4,
 "nbformat_minor": 2
}
