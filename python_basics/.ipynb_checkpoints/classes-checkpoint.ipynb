{
 "cells": [
  {
   "cell_type": "markdown",
   "metadata": {},
   "source": [
    "# Classes\n",
    "\n",
    "### Class 2: Find the Torsional Angle\n",
    "You are given four points $A, B, C$ and $D$ in a 3-dimensional Cartesian coordinate system. You are required to print the angle between the plane made by the points $A, B, C$ and $B, C, D$ in degrees(**not radians**). Output the angle correct up to two decimal places. Let the angle be $PHI$. $$\\cos(PHI) = \\frac{X\\dot Y}{|X||Y|}$$ where $X = AB \\times BC$ and $Y = BC \\times CD$.\n",
    "\n",
    "Here, $X\\dot Y$ means the dot product of $X$ and $Y$, and $AB\\times BC$ means the cross product of vectors $AB$ and $BC$. Also, $AB = B - A$.\n",
    "\n",
    "**Input Format:**\n",
    "- One line of input containing the space separated floating number values of the $X, Y$ and $Z$ coordinates of a point."
   ]
  },
  {
   "cell_type": "code",
   "execution_count": 4,
   "metadata": {},
   "outputs": [
    {
     "name": "stdout",
     "output_type": "stream",
     "text": [
      "0 4 5\n",
      "1 7 6\n",
      "0 5 9\n",
      "1 7 2\n",
      "8.19\n"
     ]
    }
   ],
   "source": [
    "import math\n",
    "\n",
    "class Points(object):\n",
    "    def __init__(self, x, y, z):\n",
    "        self.x = float(x)\n",
    "        self.y = float(y)\n",
    "        self.z = float(z)\n",
    "\n",
    "    def __sub__(self, no):\n",
    "        return Points(self.x - no.x, self.y - no.y, self.z - no.z)\n",
    "        \n",
    "    def __add__(self, no):\n",
    "        return Points(self.x + no.x, self.y + no.y, self.z + no.z)\n",
    "\n",
    "    def dot(self, no):\n",
    "        return self.x*no.x + self.y*no.y + self.z*no.z\n",
    "\n",
    "    def cross(self, no):\n",
    "        return Points(self.y*no.z - self.z*no.y, self.z*no.x - self.x*no.z, self.x*no.y - self.y*no.x)\n",
    "        \n",
    "    def absolute(self):\n",
    "        return pow((self.x ** 2 + self.y ** 2 + self.z ** 2), 0.5)\n",
    "    \n",
    "if __name__ == '__main__':\n",
    "    points = list()\n",
    "    for i in range(4):\n",
    "        a = list(map(float, input().split()))\n",
    "        points.append(a)\n",
    "\n",
    "    a, b, c, d = Points(*points[0]), Points(*points[1]), Points(*points[2]), Points(*points[3])\n",
    "    x = (b - a).cross(c - b)\n",
    "    y = (c - b).cross(d - c)\n",
    "    angle = math.acos(x.dot(y) / (x.absolute() * y.absolute()))\n",
    "\n",
    "    print(\"%.2f\" % math.degrees(angle))"
   ]
  },
  {
   "cell_type": "code",
   "execution_count": null,
   "metadata": {},
   "outputs": [],
   "source": []
  },
  {
   "cell_type": "markdown",
   "metadata": {},
   "source": [
    "#### What I learnt:\n",
    "1. When initializing special *class* object, do it with <mark>init(self, etc)</mark>\n",
    "2. Addition/subtraction is defined by: <mark>add/sub(self, etc)</mark>\n",
    "3. Each *class object* has its own components, which are attached to self: <mark>self.x, self.y, etc.x</mark>\n",
    "4. If function in **class** takes only _self_, call this function with: <mark>class object.function()</mark>\n",
    "\n",
    "<hr/>\n",
    "\n",
    "### Classes: Dealing with Complex Numbers\n",
    "For this challenge, you are given two complex numbers, and you have to print the result of their addition, subtraction, multiplication, division and modulus operations. The real and imaginary precision part should be correct up to two decimal places.\n",
    "\n",
    "**Input Format**:\n",
    "- One line of input: The real and imaginary part of a number separated by a space.\n",
    "\n",
    "**Output Format**:\n",
    "For two complex numbers $C$ and $D$, the output should be in the following sequence on separate lines:\n",
    "\n",
    "- $C + D$\n",
    "- $C - D$\n",
    "- $C * D$\n",
    "- $C / D$\n",
    "- $mod(C)$\n",
    "- $mod(D)$\n",
    "\n",
    "- For complex numbers with non-zero real $(A)$ and complex part $(B)$, the output should be in the following format: $A+iB$\n",
    "- Replace the plus symbol $(+)$ with minus $(-)$, when $B<0$\n",
    "- For complex numbers with a zero complex part i.e. real numbers, the output should be: $A + 0.00i$\n",
    "- For complex numbers where the real part is zero and the complex part $(B)$ is non-zero, the output should be: $0.00 + Bi$"
   ]
  },
  {
   "cell_type": "code",
   "execution_count": 9,
   "metadata": {},
   "outputs": [
    {
     "name": "stdout",
     "output_type": "stream",
     "text": [
      "2 1\n",
      "5 6\n",
      "7.00+7.00i\n",
      "-3.00-5.00i\n",
      "4.00+17.00i\n",
      "0.26-0.11i\n",
      "2.24+0.00i\n",
      "7.81+0.00i\n"
     ]
    }
   ],
   "source": [
    "import math\n",
    "\n",
    "class Complex(object):\n",
    "    def __init__(self, real, imaginary):\n",
    "        self.real = float(real)\n",
    "        self.imaginary = float(imaginary)\n",
    "        \n",
    "    def __add__(self, no):\n",
    "        return Complex(self.real + no.real, self.imaginary + no.imaginary)\n",
    "        \n",
    "    def __sub__(self, no):\n",
    "        return Complex(self.real - no.real, self.imaginary - no.imaginary)\n",
    "        \n",
    "    def __mul__(self, no):\n",
    "        return Complex(self.real*no.real - self.imaginary*no.imaginary, self.real*no.imaginary + self.imaginary*no.real)\n",
    "\n",
    "    def __truediv__(self, no):\n",
    "        denom = no.real**2 + no.imaginary**2\n",
    "        return Complex((self.real*no.real + self.imaginary*no.imaginary) / denom, (self.imaginary*no.real - self.real*no.imaginary) / denom)\n",
    "\n",
    "    def mod(self):\n",
    "        return Complex(pow(self.real**2 + self.imaginary**2, 0.5), 0.00)\n",
    "\n",
    "    def __str__(self):\n",
    "        if self.imaginary == 0:\n",
    "            result = \"%.2f+0.00i\" % (self.real)\n",
    "        elif self.real == 0:\n",
    "            if self.imaginary >= 0:\n",
    "                result = \"0.00+%.2fi\" % (self.imaginary)\n",
    "            else:\n",
    "                result = \"0.00-%.2fi\" % (abs(self.imaginary))\n",
    "        elif self.imaginary > 0:\n",
    "            result = \"%.2f+%.2fi\" % (self.real, self.imaginary)\n",
    "        else:\n",
    "            result = \"%.2f-%.2fi\" % (self.real, abs(self.imaginary))\n",
    "        return result\n",
    "    \n",
    "# test Complex class    \n",
    "if __name__ == '__main__':\n",
    "    c = map(float, input().split())\n",
    "    d = map(float, input().split())\n",
    "    x = Complex(*c)\n",
    "    y = Complex(*d)\n",
    "    print(*map(str, [x+y, x-y, x*y, x/y, x.mod(), y.mod()]), sep='\\n')"
   ]
  },
  {
   "cell_type": "markdown",
   "metadata": {},
   "source": [
    "#### What I learnt:\n",
    "1. Python is a fully object-oriented language\n",
    "2. Methods with a double underscore before and after their name are considered as built-in methods. They are used by interpreters and are generally used in the implementation of overloaded operators or other built-in functionality."
   ]
  }
 ],
 "metadata": {
  "kernelspec": {
   "display_name": "Python 3",
   "language": "python",
   "name": "python3"
  },
  "language_info": {
   "codemirror_mode": {
    "name": "ipython",
    "version": 3
   },
   "file_extension": ".py",
   "mimetype": "text/x-python",
   "name": "python",
   "nbconvert_exporter": "python",
   "pygments_lexer": "ipython3",
   "version": "3.7.0"
  }
 },
 "nbformat": 4,
 "nbformat_minor": 2
}
