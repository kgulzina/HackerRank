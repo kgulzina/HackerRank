{
 "cells": [
  {
   "cell_type": "markdown",
   "metadata": {},
   "source": [
    "# Collections\n",
    "\n",
    "### collections.Counter()\n",
    "You are a shop owner. You have shop has $X$ number of shoes. He has a list containing the size of each shoe he has in his shop. There are $N$ number of customers who are willing to pay $x_i$ amount of money only if they get the shoe of their desired size. Your task is to compute how much money we earned. Print the money earned.\n",
    "\n",
    "**Input Format**:\n",
    "1. The first line contains $X$, the number of shoes.\n",
    "2. The second line contains the space separated list of all the shoe sizes in the shop.\n",
    "3. The third line contains $N$, the number of customers.\n",
    "4. The next $N$ lines contain the space separated values of the *shoe size* desired by the customer and $x_i$, the price of the shoe.\n",
    "\n",
    "**Constraints**:\n",
    "1. $0 < X < 10^3$\n",
    "2. $0 < N \\leq 10^3$\n",
    "3. $20 < x_i < 100$\n",
    "4. $2 < shoe$ $size < 20$"
   ]
  },
  {
   "cell_type": "code",
   "execution_count": 17,
   "metadata": {},
   "outputs": [
    {
     "name": "stdout",
     "output_type": "stream",
     "text": [
      "2\n",
      "6 7\n",
      "4\n",
      "5 40\n",
      "5 40\n",
      "5 40\n",
      "5 40\n",
      "0\n"
     ]
    }
   ],
   "source": [
    "import collections\n",
    "\n",
    "X = int(input())\n",
    "assert 0 < X < 10**3, 'X is out of range!'\n",
    "\n",
    "shoe_size = list(map(int, input().split()))\n",
    "shop = collections.Counter(shoe_size)\n",
    "\n",
    "N = int(input())\n",
    "assert 0 < N <= 10**3, 'N os out of range!'\n",
    "\n",
    "earned = 0\n",
    "for _ in range(N):\n",
    "    if X != 0:\n",
    "        size, price = map(int, input().split())\n",
    "        assert 2 < size < 20, 'Shoe size is out of range!'\n",
    "        assert 20 < price < 100, 'Price is out of range!'\n",
    "\n",
    "        if shop[size] > 0:\n",
    "            earned += price\n",
    "            shop[size] -= 1\n",
    "            X -= 1\n",
    "        else:\n",
    "            continue\n",
    "    else:\n",
    "        break\n",
    "print(earned)"
   ]
  },
  {
   "cell_type": "markdown",
   "metadata": {},
   "source": [
    "#### What I learnt:\n",
    "1. It is an object like a dictionary, but with some differences. Elements are stored as dictionary *keys* and their counts are stored as dictionary *values*.\n",
    "2. Counts can be both zero and negative\n",
    "3. Counter objects are created from *iterables* or *mappings*: `{'dogs': 3, 'cats': 2}`, etc.\n",
    "4. Counter objects have a **dictionary interface** except that they return a zero count for missing items instead of raising a *KeyError*\n",
    "5. Setting a count to zero does not remove an element from a counter. Use *del* to remove it entirely from the counter.\n",
    "6. It uses almost all functions used with dictionary objects\n",
    "\n",
    "<hr/>\n",
    "\n",
    "### DefaultDict Tutorial\n",
    "You will be given 2 integers, $n$ and $m$. There are $n$ words, which might repeat, in word group $A$. There are $m$ words belonging to word group $B$. For each $m$ words, check whether the word has appeared in group $A$ or not. Print the indices of each occurrence of $m$ in group $A$. If it does not appear, print $-1$. Output $m$ lines. The $i^{th}$ line should contain the 1-indexed positions of the occurrences of the $i^{th}$ word separated by spaces.\n",
    "\n",
    "**Input Format**\n",
    "1. The first line contains integers, $n$ and $m$ separated by a space.\n",
    "2. The next $n$ lines contains the words belonging to group $A$.\n",
    "3. The next $m$ lines contains the words belonging to group $B$.\n",
    "\n",
    "**Constraints:**\n",
    "1. $1 \\leq n \\leq 10000$\n",
    "2. $1 \\leq m \\leq 100$\n",
    "3. $1 \\leq$ *length of each word in the input* $\\leq 100$"
   ]
  },
  {
   "cell_type": "code",
   "execution_count": 43,
   "metadata": {},
   "outputs": [
    {
     "name": "stdout",
     "output_type": "stream",
     "text": [
      "5 2\n",
      "a\n",
      "a\n",
      "b\n",
      "a\n",
      "b\n",
      "a\n",
      "1 2 4\n",
      "b\n",
      "3 5\n"
     ]
    }
   ],
   "source": [
    "import collections\n",
    "\n",
    "n, m = map(int, input().split())\n",
    "assert 1 <= n <= 10000, 'n is out of range!'\n",
    "assert 1 <= m <= 100, 'm is out of range!'\n",
    "\n",
    "A = collections.defaultdict(list)\n",
    "for i in range(n):\n",
    "    # store the indices of words as values\n",
    "    A[input()].append(i+1)\n",
    "\n",
    "for _ in range(m):\n",
    "    s = input()\n",
    "    assert 1 <= len(s) <= 100, 'Length of words in B are out of range!'\n",
    "    if s in A:\n",
    "        print(' '.join(map(str, A[s])))\n",
    "    else:\n",
    "        print(-1)"
   ]
  },
  {
   "cell_type": "markdown",
   "metadata": {},
   "source": [
    "#### What I learnt:\n",
    "1. It's the same dictionary, but with the default values for the keys, if that hasn't been set yet\n",
    "2. In normal dictionaries, you would check if key EXISTS, then set the value, but in **DefaultDict** you can set values to non-existing keys automatically\n",
    "3. To learn multiple indices, it's better to use DefaultDict which stores indices as values of keys\n",
    "\n",
    "<hr/>\n",
    "\n",
    "### Collections.OrderedDict()\n",
    "You are the manager of a supermarket. You have a list of $N$ items together with their prices that consumers bought on a particular day.\n",
    "Your task is to print each *item_name* and <i>net_price</i> in order of its first occurrence. Here net price is the quantity of the item sold multiplied by the price of each item. Print the *item_name* and <i>net_price</i> in order of its first occurrence.\n",
    "\n",
    "**Input Format**:\n",
    "1. The first line contains the number of items, $N$.\n",
    "2. The next $N$ lines contains the item's name and price, separated by a space.\n",
    "\n",
    "**Constraints**:\n",
    "1. $0 < N \\leq 100$"
   ]
  },
  {
   "cell_type": "code",
   "execution_count": 62,
   "metadata": {},
   "outputs": [
    {
     "name": "stdout",
     "output_type": "stream",
     "text": [
      "3\n",
      "banana 1\n",
      "banana 3\n",
      "alma 4\n",
      "banana 4\n",
      "alma 4\n"
     ]
    }
   ],
   "source": [
    "import collections\n",
    "\n",
    "N = int(input())\n",
    "assert 0 < N <= 100, 'N is out of range!'\n",
    "\n",
    "store = collections.OrderedDict()\n",
    "for _ in range(N):\n",
    "    s = input().split()\n",
    "    name, price = ' '.join(s[:-1]), int(s[-1])\n",
    "    store[name] = store.get(name, 0) + price\n",
    "        \n",
    "for name, price in store.items():\n",
    "    print(name, price)"
   ]
  },
  {
   "cell_type": "markdown",
   "metadata": {},
   "source": [
    "#### What I learnt:\n",
    "1. Order in which the keys have been inserted is memorized by ordereddict object, unlike the ordinary dict objects\n",
    "2. <mark>popitem()</mark> returns and removes a (key, value) pair. \n",
    "3. The pairs are returned in LIFO order, like **stacks** if `last = TRUE`\n",
    "4. The pairs are returned in FIFO order, like **queues** if `last = FALSE`\n",
    "5. Supports reverse iteration using `reversed()`\n",
    "6. Equality tests are done with orderedict1 and ordereddict2 only.\n",
    "7. Equality tests with other mapping objects are done in a regular way, so ordereddicts are good in general\n",
    "8. Elements passed by `update()` loose their order, since it's done using regular dict object\n",
    "9. `dict.get()` function gets the values for the particular key, is there is no value it gets None. However, if there is no value assigned, you can get your own default value like: <mark>dict.get(key, DefaultValue)</mark>\n",
    "\n",
    "<hr/>\n",
    "\n",
    "### Collections.namedtuple()\n"
   ]
  },
  {
   "cell_type": "code",
   "execution_count": null,
   "metadata": {},
   "outputs": [],
   "source": []
  },
  {
   "cell_type": "markdown",
   "metadata": {},
   "source": [
    "#### What I learnt:\n",
    "1. With namedtuples, you don’t have to use integer indices for accessing members of a tuple.\n",
    "2. \n",
    "\n",
    "<hr/>\n",
    "\n",
    "### "
   ]
  },
  {
   "cell_type": "code",
   "execution_count": null,
   "metadata": {},
   "outputs": [],
   "source": []
  },
  {
   "cell_type": "code",
   "execution_count": null,
   "metadata": {},
   "outputs": [],
   "source": []
  },
  {
   "cell_type": "code",
   "execution_count": null,
   "metadata": {},
   "outputs": [],
   "source": []
  },
  {
   "cell_type": "code",
   "execution_count": null,
   "metadata": {},
   "outputs": [],
   "source": []
  },
  {
   "cell_type": "code",
   "execution_count": null,
   "metadata": {},
   "outputs": [],
   "source": []
  }
 ],
 "metadata": {
  "kernelspec": {
   "display_name": "Python 3",
   "language": "python",
   "name": "python3"
  },
  "language_info": {
   "codemirror_mode": {
    "name": "ipython",
    "version": 3
   },
   "file_extension": ".py",
   "mimetype": "text/x-python",
   "name": "python",
   "nbconvert_exporter": "python",
   "pygments_lexer": "ipython3",
   "version": "3.7.0"
  }
 },
 "nbformat": 4,
 "nbformat_minor": 2
}
