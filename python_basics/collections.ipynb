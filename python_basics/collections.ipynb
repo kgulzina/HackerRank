{
 "cells": [
  {
   "cell_type": "markdown",
   "metadata": {},
   "source": [
    "# Collections\n",
    "\n",
    "### collections.Counter()\n",
    "You are a shop owner. You have shop has $X$ number of shoes. He has a list containing the size of each shoe he has in his shop. There are $N$ number of customers who are willing to pay $x_i$ amount of money only if they get the shoe of their desired size. Your task is to compute how much money we earned. Print the money earned.\n",
    "\n",
    "**Input Format**:\n",
    "1. The first line contains $X$, the number of shoes.\n",
    "2. The second line contains the space separated list of all the shoe sizes in the shop.\n",
    "3. The third line contains $N$, the number of customers.\n",
    "4. The next $N$ lines contain the space separated values of the *shoe size* desired by the customer and $x_i$, the price of the shoe.\n",
    "\n",
    "**Constraints**:\n",
    "1. $0 < X < 10^3$\n",
    "2. $0 < N \\leq 10^3$\n",
    "3. $20 < x_i < 100$\n",
    "4. $2 < shoe$ $size < 20$"
   ]
  },
  {
   "cell_type": "code",
   "execution_count": 17,
   "metadata": {},
   "outputs": [
    {
     "name": "stdout",
     "output_type": "stream",
     "text": [
      "2\n",
      "6 7\n",
      "4\n",
      "5 40\n",
      "5 40\n",
      "5 40\n",
      "5 40\n",
      "0\n"
     ]
    }
   ],
   "source": [
    "import collections\n",
    "\n",
    "X = int(input())\n",
    "assert 0 < X < 10**3, 'X is out of range!'\n",
    "\n",
    "shoe_size = list(map(int, input().split()))\n",
    "shop = collections.Counter(shoe_size)\n",
    "\n",
    "N = int(input())\n",
    "assert 0 < N <= 10**3, 'N os out of range!'\n",
    "\n",
    "earned = 0\n",
    "for _ in range(N):\n",
    "    if X != 0:\n",
    "        size, price = map(int, input().split())\n",
    "        assert 2 < size < 20, 'Shoe size is out of range!'\n",
    "        assert 20 < price < 100, 'Price is out of range!'\n",
    "\n",
    "        if shop[size]:\n",
    "            earned += price\n",
    "            shop[size] -= 1\n",
    "            X -= 1\n",
    "        else:\n",
    "            continue\n",
    "    else:\n",
    "        break\n",
    "print(earned)"
   ]
  },
  {
   "cell_type": "markdown",
   "metadata": {},
   "source": [
    "#### What I learnt:\n",
    "1. It is an object like a dictionary, but with some differences. Elements are stored as dictionary *keys* and their counts are stored as dictionary *values*.\n",
    "2. Counts can be both zero and negative\n",
    "3. Counter objects are created from *iterables* or *mappings*: `{'dogs': 3, 'cats': 2}`, etc.\n",
    "4. Counter objects have a **dictionary interface** except that they return a zero count for missing items instead of raising a *KeyError*\n",
    "5. Setting a count to zero does not remove an element from a counter. Use *del* to remove it entirely from the counter.\n",
    "6. It uses almost all functions used with dictionary objects\n",
    "\n",
    "<hr/>\n",
    "\n",
    "### DefaultDict Tutorial\n",
    "You will be given 2 integers, $n$ and $m$. There are $n$ words, which might repeat, in word group $A$. There are $m$ words belonging to word group $B$. For each $m$ words, check whether the word has appeared in group $A$ or not. Print the indices of each occurrence of $m$ in group $A$. If it does not appear, print $-1$. Output $m$ lines. The $i^{th}$ line should contain the 1-indexed positions of the occurrences of the $i^{th}$ word separated by spaces.\n",
    "\n",
    "**Input Format**\n",
    "1. The first line contains integers, $n$ and $m$ separated by a space.\n",
    "2. The next $n$ lines contains the words belonging to group $A$.\n",
    "3. The next $m$ lines contains the words belonging to group $B$.\n",
    "\n",
    "**Constraints:**\n",
    "1. $1 \\leq n \\leq 10000$\n",
    "2. $1 \\leq m \\leq 100$\n",
    "3. $1 \\leq$ *length of each word in the input* $\\leq 100$"
   ]
  },
  {
   "cell_type": "code",
   "execution_count": 43,
   "metadata": {},
   "outputs": [
    {
     "name": "stdout",
     "output_type": "stream",
     "text": [
      "5 2\n",
      "a\n",
      "a\n",
      "b\n",
      "a\n",
      "b\n",
      "a\n",
      "1 2 4\n",
      "b\n",
      "3 5\n"
     ]
    }
   ],
   "source": [
    "import collections\n",
    "\n",
    "n, m = map(int, input().split())\n",
    "assert 1 <= n <= 10000, 'n is out of range!'\n",
    "assert 1 <= m <= 100, 'm is out of range!'\n",
    "\n",
    "A = collections.defaultdict(list)\n",
    "for i in range(n):\n",
    "    # store the indices of words as values\n",
    "    A[input()].append(i+1)\n",
    "\n",
    "for _ in range(m):\n",
    "    s = input()\n",
    "    assert 1 <= len(s) <= 100, 'Length of words in B are out of range!'\n",
    "    if s in A:\n",
    "        print(' '.join(map(str, A[s])))\n",
    "    else:\n",
    "        print(-1)"
   ]
  },
  {
   "cell_type": "markdown",
   "metadata": {},
   "source": [
    "#### What I learnt:\n",
    "1. It's the same dictionary, but with the default values for the keys, if that hasn't been set yet\n",
    "2. In normal dictionaries, you would check if key EXISTS, then set the value, but in **DefaultDict** you can set values to non-existing keys automatically\n",
    "3. To learn multiple indices, it's better to use DefaultDict which stores indices as values of keys\n",
    "\n",
    "<hr/>\n",
    "\n",
    "### Collections.OrderedDict()\n",
    "You are the manager of a supermarket. You have a list of $N$ items together with their prices that consumers bought on a particular day.\n",
    "Your task is to print each *item_name* and <i>net_price</i> in order of its first occurrence. Here net price is the quantity of the item sold multiplied by the price of each item. Print the *item_name* and <i>net_price</i> in order of its first occurrence.\n",
    "\n",
    "**Input Format**:\n",
    "1. The first line contains the number of items, $N$.\n",
    "2. The next $N$ lines contains the item's name and price, separated by a space.\n",
    "\n",
    "**Constraints**:\n",
    "1. $0 < N \\leq 100$"
   ]
  },
  {
   "cell_type": "code",
   "execution_count": 62,
   "metadata": {},
   "outputs": [
    {
     "name": "stdout",
     "output_type": "stream",
     "text": [
      "3\n",
      "banana 1\n",
      "banana 3\n",
      "alma 4\n",
      "banana 4\n",
      "alma 4\n"
     ]
    }
   ],
   "source": [
    "import collections\n",
    "\n",
    "N = int(input())\n",
    "assert 0 < N <= 100, 'N is out of range!'\n",
    "\n",
    "store = collections.OrderedDict()\n",
    "for _ in range(N):\n",
    "    s = input().split()\n",
    "    name, price = ' '.join(s[:-1]), int(s[-1])\n",
    "    store[name] = store.get(name, 0) + price\n",
    "        \n",
    "for name, price in store.items():\n",
    "    print(name, price)"
   ]
  },
  {
   "cell_type": "markdown",
   "metadata": {},
   "source": [
    "#### What I learnt:\n",
    "1. Order in which the keys have been inserted is memorized by ordereddict object, unlike the ordinary dict objects\n",
    "2. <mark>popitem()</mark> returns and removes a (key, value) pair. \n",
    "3. The pairs are returned in LIFO order, like **stacks** if `last = TRUE`\n",
    "4. The pairs are returned in FIFO order, like **queues** if `last = FALSE`\n",
    "5. Supports reverse iteration using `reversed()`\n",
    "6. Equality tests are done with orderedict1 and ordereddict2 only.\n",
    "7. Equality tests with other mapping objects are done in a regular way, so ordereddicts are good in general\n",
    "8. Elements passed by `update()` loose their order, since it's done using regular dict object\n",
    "9. `dict.get()` function gets the values for the particular key, is there is no value it gets None. However, if there is no value assigned, you can get your own default value like: <mark>dict.get(key, DefaultValue)</mark>\n",
    "\n",
    "<hr/>\n",
    "\n",
    "### Collections.namedtuple()\n",
    "Dr. John Wesley has a spreadsheet containing a list of student's $ID's$, $marks$, $class$ and $name$. Our task is to help Dr. Wesley calculate the average marks of the students. $$Average = \\frac{Sum(\\forall marks)}{TotalStudents}$$ Print the average marks of the list corrected to 2 decimal places.\n",
    "\n",
    "**Notes:**\n",
    "1. Columns can be in any order. IDs, marks, class and name can be written in any order in the spreadsheet.\n",
    "2. Column names are ID, MARKS, CLASS and NAME. (The spelling and case type of these names won't change.)\n",
    "\n",
    "**Input Format:**\n",
    "1. The first line contains an integer $N$, the total number of students.\n",
    "2. The second line contains the names of the columns in any order.\n",
    "3. The next $N$ lines contains the $marks$, $IDs$, $name$ and $class$, under their respective column names.\n",
    "\n",
    "**Constraints:**\n",
    "1. $0 < N \\leq 100$"
   ]
  },
  {
   "cell_type": "code",
   "execution_count": 16,
   "metadata": {},
   "outputs": [
    {
     "name": "stdout",
     "output_type": "stream",
     "text": [
      "2\n",
      "ID         MARKS      NAME       CLASS\n",
      "1          97         Raymond    7  \n",
      "2          50         Steven     4\n",
      "73.50\n"
     ]
    }
   ],
   "source": [
    "from collections import namedtuple\n",
    "\n",
    "N = int(input())\n",
    "assert 0 < N <= 100, 'N is out of range!'\n",
    "\n",
    "student = namedtuple('student', input())\n",
    "marks = 0\n",
    "for _ in range(N):\n",
    "    temp_st = student(*input().split())\n",
    "    marks += int(temp_st.MARKS)\n",
    "    \n",
    "print('{:.2f}'.format(marks / N))"
   ]
  },
  {
   "cell_type": "markdown",
   "metadata": {},
   "source": [
    "#### What I learnt:\n",
    "1. With namedtuples, you don’t have to use integer indices for accessing members of a tuple.\n",
    "2. Also iterable object, with the names assigned to elements. If `rename = TRUE`, invalid names are replaced with automatic position (index) names\n",
    "3. Light as original tuple, in terms of memory\n",
    "4. *fielf_names* are sequence of strings s.t. ['x', 'y'], which are accessible through <mark>__repr()__</mark>\n",
    "5. Name fields should be entered as a whole string\n",
    "\n",
    "<hr/>\n",
    "\n",
    "### Word Order\n",
    "We are given $n$ words. Some words may repeat. For each word, output its number of occurrences. The output order should correspond with the input order of appearance of the word. See the sample input/output for clarification. Each input line ends with a __\"\\n\"__ character.\n",
    "\n",
    "**Input Formats:**\n",
    "1. The first line contains the integer, $n$.\n",
    "2. The next $n$ lines each contain a word.\n",
    "\n",
    "**Constraints:**\n",
    "1. $1 \\leq n \\leq 10^5$\n",
    "2. The sum of the lengths of all the words do not exceed $10^6$\n",
    "3. All the words are composed of lowercase English letters only.\n",
    "\n",
    "**Output Formats:**\n",
    "1. Output $2$ lines.\n",
    "2. On the first line, output the number of distinct words from the input.\n",
    "3. On the second line, output the number of occurrences for each distinct word according to their appearance in the input."
   ]
  },
  {
   "cell_type": "code",
   "execution_count": 22,
   "metadata": {},
   "outputs": [
    {
     "name": "stdout",
     "output_type": "stream",
     "text": [
      "3\n",
      "cat\n",
      "dog\n",
      "cat\n",
      "2\n",
      "2 1\n"
     ]
    }
   ],
   "source": [
    "import collections\n",
    "\n",
    "n = int(input())\n",
    "assert 1 <= n <= 10**5, 'n is out of range!'\n",
    "\n",
    "words = collections.OrderedDict()\n",
    "for _ in range(n):\n",
    "    word = input()\n",
    "    words[word] = words.get(word, 0) + 1\n",
    "        \n",
    "print(len(words.items()))\n",
    "print(*words.values())"
   ]
  },
  {
   "cell_type": "markdown",
   "metadata": {},
   "source": [
    "#### What I learnt:\n",
    "1. Ordered dictionaries are good for stpring objects in orders\n",
    "2. dict.get(key, default values) >> if you aren't sure if the keys and its value exist\n",
    "3. Use * always to take out values from objects, usually iterables\n",
    "\n",
    "<hr/>\n",
    "\n",
    "### Collections.deque()\n",
    "Perform append, pop, popleft and appendleft methods on an empty deque $d$. Print the space separated elements of deque .\n",
    "\n",
    "**Input Format**:\n",
    "1. The first line contains an integer $N$, the number of operations.\n",
    "2. The next $N$ lines contains the space separated names of methods and their values.\n",
    "\n",
    "**Constraints**:\n",
    "1. $0 < N \\leq 100$"
   ]
  },
  {
   "cell_type": "code",
   "execution_count": 32,
   "metadata": {},
   "outputs": [
    {
     "name": "stdout",
     "output_type": "stream",
     "text": [
      "2\n",
      "append 2\n",
      "append 3\n",
      "2 3\n"
     ]
    }
   ],
   "source": [
    "from collections import deque\n",
    "\n",
    "# read the first line: N\n",
    "N = int(input())\n",
    "assert 0 < N <= 100, 'N is out of range!'\n",
    "\n",
    "# later manipulate this empty list\n",
    "d = deque()\n",
    "\n",
    "for n in range(N):\n",
    "    input_line = input().split()\n",
    "    command, args = input_line[0], input_line[1:]\n",
    "    command += '(' + ','.join(args) + ')'\n",
    "    eval('d.' + command)\n",
    "    \n",
    "print(*d)        "
   ]
  },
  {
   "cell_type": "markdown",
   "metadata": {},
   "source": [
    "#### What I learnt:\n",
    "1. Deque is a double-ended queue\n",
    "2. Deques support thread safe, memory efficient appends and pops from either side of the deque with approximately the same $O(1)$ performance in either direction.\n",
    "3. `deque(iterable, maxlength)` gives a dequeu object, initialized from left to right, data from iterable\n",
    "4. Generalization of queues and stacks - decks\n",
    "5. If *maxlenghts* is not specified, deque can grow to any size\n",
    "6. **Lists** are better for the fixed-lengths operations, they require $O(n)$ memory movement cost\n",
    "7. `deque()` has almost the same methods as lists, but with *leftside* options\n",
    "8. `deck.extendleft(iterable)` >> inserts elements in iterable from the left one-by-one. The same with the extend() from the right. \n",
    "\n",
    "<hr/>\n",
    "\n",
    "### Piling Up!\n",
    "There is a horizontal row of $n$ cubes. The length of each cube is given. You need to create a new vertical pile of cubes. The new pile should follow these directions: if $cube_i$ is on top of $cube_j$ then $sideLength_j \\leq sideLength_i$.\n",
    "When stacking the cubes, you can only pick up either the leftmost or the rightmost cube each time. Print \"Yes\" if it is possible to stack the cubes. Otherwise, print \"No\". Do not print the quotation marks. For each test case, output a single line containing either \"Yes\" or \"No\" without the quotes.\n",
    "\n",
    "**Input Format**:\n",
    "1. The first line contains a single integer , the number of test cases.\n",
    "2. For each test case, there are $2$ lines.\n",
    "3. The first line of each test case contains $n$, the number of cubes.\n",
    "4. The second line contains $n$ space separated integers, denoting the sideLengths of each cube in that order.\n",
    "\n",
    "**Constraints**:\n",
    "1. $1 \\leq T \\leq 5$\n",
    "2. $1 \\leq n \\leq 10^5$\n",
    "3. $1 \\leq sideLength \\leq 2^{31}$"
   ]
  },
  {
   "cell_type": "code",
   "execution_count": 58,
   "metadata": {},
   "outputs": [
    {
     "ename": "KeyboardInterrupt",
     "evalue": "",
     "output_type": "error",
     "traceback": [
      "\u001b[0;31m---------------------------------------------------------------------------\u001b[0m",
      "\u001b[0;31mKeyboardInterrupt\u001b[0m                         Traceback (most recent call last)",
      "\u001b[0;32m/anaconda3/lib/python3.7/site-packages/ipykernel/kernelbase.py\u001b[0m in \u001b[0;36m_input_request\u001b[0;34m(self, prompt, ident, parent, password)\u001b[0m\n\u001b[1;32m    728\u001b[0m             \u001b[0;32mtry\u001b[0m\u001b[0;34m:\u001b[0m\u001b[0;34m\u001b[0m\u001b[0m\n\u001b[0;32m--> 729\u001b[0;31m                 \u001b[0mident\u001b[0m\u001b[0;34m,\u001b[0m \u001b[0mreply\u001b[0m \u001b[0;34m=\u001b[0m \u001b[0mself\u001b[0m\u001b[0;34m.\u001b[0m\u001b[0msession\u001b[0m\u001b[0;34m.\u001b[0m\u001b[0mrecv\u001b[0m\u001b[0;34m(\u001b[0m\u001b[0mself\u001b[0m\u001b[0;34m.\u001b[0m\u001b[0mstdin_socket\u001b[0m\u001b[0;34m,\u001b[0m \u001b[0;36m0\u001b[0m\u001b[0;34m)\u001b[0m\u001b[0;34m\u001b[0m\u001b[0m\n\u001b[0m\u001b[1;32m    730\u001b[0m             \u001b[0;32mexcept\u001b[0m \u001b[0mException\u001b[0m\u001b[0;34m:\u001b[0m\u001b[0;34m\u001b[0m\u001b[0m\n",
      "\u001b[0;32m/anaconda3/lib/python3.7/site-packages/jupyter_client/session.py\u001b[0m in \u001b[0;36mrecv\u001b[0;34m(self, socket, mode, content, copy)\u001b[0m\n\u001b[1;32m    802\u001b[0m         \u001b[0;32mtry\u001b[0m\u001b[0;34m:\u001b[0m\u001b[0;34m\u001b[0m\u001b[0m\n\u001b[0;32m--> 803\u001b[0;31m             \u001b[0mmsg_list\u001b[0m \u001b[0;34m=\u001b[0m \u001b[0msocket\u001b[0m\u001b[0;34m.\u001b[0m\u001b[0mrecv_multipart\u001b[0m\u001b[0;34m(\u001b[0m\u001b[0mmode\u001b[0m\u001b[0;34m,\u001b[0m \u001b[0mcopy\u001b[0m\u001b[0;34m=\u001b[0m\u001b[0mcopy\u001b[0m\u001b[0;34m)\u001b[0m\u001b[0;34m\u001b[0m\u001b[0m\n\u001b[0m\u001b[1;32m    804\u001b[0m         \u001b[0;32mexcept\u001b[0m \u001b[0mzmq\u001b[0m\u001b[0;34m.\u001b[0m\u001b[0mZMQError\u001b[0m \u001b[0;32mas\u001b[0m \u001b[0me\u001b[0m\u001b[0;34m:\u001b[0m\u001b[0;34m\u001b[0m\u001b[0m\n",
      "\u001b[0;32m/anaconda3/lib/python3.7/site-packages/zmq/sugar/socket.py\u001b[0m in \u001b[0;36mrecv_multipart\u001b[0;34m(self, flags, copy, track)\u001b[0m\n\u001b[1;32m    466\u001b[0m         \"\"\"\n\u001b[0;32m--> 467\u001b[0;31m         \u001b[0mparts\u001b[0m \u001b[0;34m=\u001b[0m \u001b[0;34m[\u001b[0m\u001b[0mself\u001b[0m\u001b[0;34m.\u001b[0m\u001b[0mrecv\u001b[0m\u001b[0;34m(\u001b[0m\u001b[0mflags\u001b[0m\u001b[0;34m,\u001b[0m \u001b[0mcopy\u001b[0m\u001b[0;34m=\u001b[0m\u001b[0mcopy\u001b[0m\u001b[0;34m,\u001b[0m \u001b[0mtrack\u001b[0m\u001b[0;34m=\u001b[0m\u001b[0mtrack\u001b[0m\u001b[0;34m)\u001b[0m\u001b[0;34m]\u001b[0m\u001b[0;34m\u001b[0m\u001b[0m\n\u001b[0m\u001b[1;32m    468\u001b[0m         \u001b[0;31m# have first part already, only loop while more to receive\u001b[0m\u001b[0;34m\u001b[0m\u001b[0;34m\u001b[0m\u001b[0m\n",
      "\u001b[0;32mzmq/backend/cython/socket.pyx\u001b[0m in \u001b[0;36mzmq.backend.cython.socket.Socket.recv\u001b[0;34m()\u001b[0m\n",
      "\u001b[0;32mzmq/backend/cython/socket.pyx\u001b[0m in \u001b[0;36mzmq.backend.cython.socket.Socket.recv\u001b[0;34m()\u001b[0m\n",
      "\u001b[0;32mzmq/backend/cython/socket.pyx\u001b[0m in \u001b[0;36mzmq.backend.cython.socket._recv_copy\u001b[0;34m()\u001b[0m\n",
      "\u001b[0;32m/anaconda3/lib/python3.7/site-packages/zmq/backend/cython/checkrc.pxd\u001b[0m in \u001b[0;36mzmq.backend.cython.checkrc._check_rc\u001b[0;34m()\u001b[0m\n",
      "\u001b[0;31mKeyboardInterrupt\u001b[0m: ",
      "\nDuring handling of the above exception, another exception occurred:\n",
      "\u001b[0;31mKeyboardInterrupt\u001b[0m                         Traceback (most recent call last)",
      "\u001b[0;32m<ipython-input-58-737ce02b3e4f>\u001b[0m in \u001b[0;36m<module>\u001b[0;34m()\u001b[0m\n\u001b[1;32m      1\u001b[0m \u001b[0;32mfrom\u001b[0m \u001b[0mcollections\u001b[0m \u001b[0;32mimport\u001b[0m \u001b[0mdeque\u001b[0m\u001b[0;34m\u001b[0m\u001b[0m\n\u001b[1;32m      2\u001b[0m \u001b[0;34m\u001b[0m\u001b[0m\n\u001b[0;32m----> 3\u001b[0;31m \u001b[0mT\u001b[0m \u001b[0;34m=\u001b[0m \u001b[0mint\u001b[0m\u001b[0;34m(\u001b[0m\u001b[0minput\u001b[0m\u001b[0;34m(\u001b[0m\u001b[0;34m)\u001b[0m\u001b[0;34m)\u001b[0m\u001b[0;34m\u001b[0m\u001b[0m\n\u001b[0m\u001b[1;32m      4\u001b[0m \u001b[0;32massert\u001b[0m \u001b[0;36m1\u001b[0m \u001b[0;34m<=\u001b[0m \u001b[0mT\u001b[0m \u001b[0;34m<=\u001b[0m \u001b[0;36m5\u001b[0m\u001b[0;34m,\u001b[0m \u001b[0;34m'T is out of range!'\u001b[0m\u001b[0;34m\u001b[0m\u001b[0m\n\u001b[1;32m      5\u001b[0m \u001b[0;34m\u001b[0m\u001b[0m\n",
      "\u001b[0;32m/anaconda3/lib/python3.7/site-packages/ipykernel/kernelbase.py\u001b[0m in \u001b[0;36mraw_input\u001b[0;34m(self, prompt)\u001b[0m\n\u001b[1;32m    702\u001b[0m             \u001b[0mself\u001b[0m\u001b[0;34m.\u001b[0m\u001b[0m_parent_ident\u001b[0m\u001b[0;34m,\u001b[0m\u001b[0;34m\u001b[0m\u001b[0m\n\u001b[1;32m    703\u001b[0m             \u001b[0mself\u001b[0m\u001b[0;34m.\u001b[0m\u001b[0m_parent_header\u001b[0m\u001b[0;34m,\u001b[0m\u001b[0;34m\u001b[0m\u001b[0m\n\u001b[0;32m--> 704\u001b[0;31m             \u001b[0mpassword\u001b[0m\u001b[0;34m=\u001b[0m\u001b[0;32mFalse\u001b[0m\u001b[0;34m,\u001b[0m\u001b[0;34m\u001b[0m\u001b[0m\n\u001b[0m\u001b[1;32m    705\u001b[0m         )\n\u001b[1;32m    706\u001b[0m \u001b[0;34m\u001b[0m\u001b[0m\n",
      "\u001b[0;32m/anaconda3/lib/python3.7/site-packages/ipykernel/kernelbase.py\u001b[0m in \u001b[0;36m_input_request\u001b[0;34m(self, prompt, ident, parent, password)\u001b[0m\n\u001b[1;32m    732\u001b[0m             \u001b[0;32mexcept\u001b[0m \u001b[0mKeyboardInterrupt\u001b[0m\u001b[0;34m:\u001b[0m\u001b[0;34m\u001b[0m\u001b[0m\n\u001b[1;32m    733\u001b[0m                 \u001b[0;31m# re-raise KeyboardInterrupt, to truncate traceback\u001b[0m\u001b[0;34m\u001b[0m\u001b[0;34m\u001b[0m\u001b[0m\n\u001b[0;32m--> 734\u001b[0;31m                 \u001b[0;32mraise\u001b[0m \u001b[0mKeyboardInterrupt\u001b[0m\u001b[0;34m\u001b[0m\u001b[0m\n\u001b[0m\u001b[1;32m    735\u001b[0m             \u001b[0;32melse\u001b[0m\u001b[0;34m:\u001b[0m\u001b[0;34m\u001b[0m\u001b[0m\n\u001b[1;32m    736\u001b[0m                 \u001b[0;32mbreak\u001b[0m\u001b[0;34m\u001b[0m\u001b[0m\n",
      "\u001b[0;31mKeyboardInterrupt\u001b[0m: "
     ]
    }
   ],
   "source": [
    "from collections import deque\n",
    "\n",
    "T = int(input())\n",
    "assert 1 <= T <= 5, 'T is out of range!'\n",
    "\n",
    "for _ in range(T):\n",
    "    n = int(input())\n",
    "    assert 1 <= n <= 10**5, 'n is too big!'\n",
    "    \n",
    "    d = deque()\n",
    "    d.extend(map(int, input().split()))\n",
    "    assert all(1 <= i <= 2**31 for i in d), 'Length is out of range!'\n",
    "    \n",
    "    temp = 2**31 + 1\n",
    "    result = 'Yes'\n",
    "    \n",
    "    while len(d) != 0:\n",
    "        #print(temp)\n",
    "        if temp < min(d[0], d[-1]):\n",
    "            result = 'No'\n",
    "            break\n",
    "        else:\n",
    "            if d[0] <= d[-1]:\n",
    "                if temp >= d[-1]:\n",
    "                    temp = d.pop()\n",
    "                else:\n",
    "                    temp = d.popleft()\n",
    "            else:\n",
    "                if temp >= d[0]:\n",
    "                    temp = d.popleft()\n",
    "                else:\n",
    "                    temp = d.pop()\n",
    "        \n",
    "    print(result)"
   ]
  },
  {
   "cell_type": "markdown",
   "metadata": {},
   "source": [
    "#### What I learnt:\n",
    "1. Dequeus can be reached from the both ends, and hence good for piling up\n",
    "\n",
    "<hr/>\n",
    "\n",
    "### Company Logo\n",
    "A newly opened multinational brand has decided to base their company logo on the three most common characters in the company name. They are now trying out various combinations of company names and logos based on this condition. Given a string $s$, which is the company name in lowercase letters, your task is to find the top three most common characters in the string.\n",
    "\n",
    "- Print the three most common characters along with their occurrence count.\n",
    "- Sort in descending order of occurrence count.\n",
    "- If the occurrence count is the same, sort the characters in alphabetical order.\n",
    "\n",
    "For example, according to the conditions described above,\n",
    "GOOGLE would have it's logo with the letters G, L, E.\n",
    "\n",
    "**Input Format**:\n",
    "1. A single line of input containing the string $S$.\n",
    "\n",
    "**Constraints**:\n",
    "1. $3 < len(S) \\leq 10^4$\n",
    "\n",
    "**Output Format**:\n",
    "1. Print the three most common characters along with their occurrence count each on a separate line.\n",
    "2. Sort output in descending order of occurrence count.\n",
    "3. If the occurrence count is the same, sort the characters in alphabetical order."
   ]
  },
  {
   "cell_type": "code",
   "execution_count": null,
   "metadata": {},
   "outputs": [],
   "source": [
    "from collections import Counter\n",
    "\n",
    "s = input()\n",
    "assert 3 < len(s) <= 10**4, 'Length of S is out of range!'\n",
    "\n",
    "for key, val in Counter(sorted(s)).most_common(3):\n",
    "    print(key, val)"
   ]
  },
  {
   "cell_type": "markdown",
   "metadata": {},
   "source": [
    "#### What I learnt:\n",
    "1. counter_object.most_common(how many?) >> will give you the most repeating elements\n",
    "2. You can sort elements in iterables first to do have sorted keys in Dictionary type objects"
   ]
  }
 ],
 "metadata": {
  "kernelspec": {
   "display_name": "Python 3",
   "language": "python",
   "name": "python3"
  },
  "language_info": {
   "codemirror_mode": {
    "name": "ipython",
    "version": 3
   },
   "file_extension": ".py",
   "mimetype": "text/x-python",
   "name": "python",
   "nbconvert_exporter": "python",
   "pygments_lexer": "ipython3",
   "version": "3.7.0"
  }
 },
 "nbformat": 4,
 "nbformat_minor": 2
}
