{
 "cells": [
  {
   "cell_type": "markdown",
   "metadata": {},
   "source": [
    "# NumPy\n",
    "\n",
    "### Arrays - Done"
   ]
  },
  {
   "cell_type": "code",
   "execution_count": 7,
   "metadata": {},
   "outputs": [],
   "source": [
    "import numpy as np"
   ]
  },
  {
   "cell_type": "code",
   "execution_count": null,
   "metadata": {},
   "outputs": [],
   "source": [
    "def arrays(arr):\n",
    "    arr.reverse()\n",
    "    return np.array(arr, float)"
   ]
  },
  {
   "cell_type": "code",
   "execution_count": 11,
   "metadata": {},
   "outputs": [
    {
     "data": {
      "text/plain": [
       "array([3., 2., 1.])"
      ]
     },
     "execution_count": 11,
     "metadata": {},
     "output_type": "execute_result"
    }
   ],
   "source": [
    "arr = [1,2,3]\n",
    "arrays(arr)"
   ]
  },
  {
   "cell_type": "markdown",
   "metadata": {},
   "source": [
    "### Shape and Reshape - Done\n",
    "\n",
    "- shape: can easily change the dimension of array, modifies the original array\n",
    "- reshape: can change the dimension without changing the original array"
   ]
  },
  {
   "cell_type": "code",
   "execution_count": 13,
   "metadata": {},
   "outputs": [
    {
     "name": "stdout",
     "output_type": "stream",
     "text": [
      "1 2 3 4 5 6 7 8 9\n",
      "[[1 2 3]\n",
      " [4 5 6]\n",
      " [7 8 9]]\n"
     ]
    }
   ],
   "source": [
    "arr = list(map(int, input().split()))\n",
    "print(np.reshape(arr, (3,3)))"
   ]
  },
  {
   "cell_type": "markdown",
   "metadata": {},
   "source": [
    "### Transpose and Flatten - Done\n",
    "\n",
    "- Transpose: creates new array\n",
    "- Flatten: creates a copy of array flatten to ONE dimension\n",
    "- You should create Numpy Array = MATRIX!!! Regular array is NOT that array!!!"
   ]
  },
  {
   "cell_type": "code",
   "execution_count": 19,
   "metadata": {},
   "outputs": [
    {
     "name": "stdout",
     "output_type": "stream",
     "text": [
      "2 2\n",
      "2 2\n",
      "3 4\n",
      "[[2 3]\n",
      " [2 4]]\n",
      "[2 2 3 4]\n"
     ]
    }
   ],
   "source": [
    "N, M = map(int, input().split())\n",
    "\n",
    "arr = []\n",
    "for _ in range(N):\n",
    "    arr.append(list(map(int, input().split())))\n",
    "\n",
    "arr = np.array(arr)\n",
    "print(np.transpose(arr))\n",
    "print(arr.flatten())"
   ]
  },
  {
   "cell_type": "markdown",
   "metadata": {},
   "source": [
    "### Concatenate - Done\n",
    "- like cbind() and rbind() in R\n",
    "- rbind() two matrices - arrays: concatenate(axis = 0)"
   ]
  },
  {
   "cell_type": "code",
   "execution_count": 35,
   "metadata": {},
   "outputs": [
    {
     "name": "stdout",
     "output_type": "stream",
     "text": [
      "2 2 2\n",
      "1 2 \n",
      "1 2 \n",
      "3 4\n",
      "3 4\n",
      "[[1 2]\n",
      " [1 2]\n",
      " [3 4]\n",
      " [3 4]]\n"
     ]
    }
   ],
   "source": [
    "N, M, P = map(int, input().split())\n",
    "\n",
    "arr1 = []\n",
    "arr2 = []\n",
    "for _ in range(N):\n",
    "    arr1.append(list(map(int, input().split())))\n",
    "for _ in range(M):\n",
    "    arr2.append(list(map(int, input().split())))\n",
    "\n",
    "# convert to numpy arrays\n",
    "arr1 = np.array(arr1)\n",
    "arr2 = np.array(arr2)\n",
    "\n",
    "print(np.concatenate((arr1, arr2), axis = 0))"
   ]
  },
  {
   "cell_type": "markdown",
   "metadata": {},
   "source": [
    "### Zeros and Ones - Done\n",
    "- **zeros**: given the shape, creates arrays filled with zeros, dtype = float or int\n",
    "- **ones**: given the shape, creates arrays filled with ones, dtype = float or int"
   ]
  },
  {
   "cell_type": "code",
   "execution_count": 37,
   "metadata": {},
   "outputs": [
    {
     "name": "stdout",
     "output_type": "stream",
     "text": [
      "3 3 3\n",
      "[[[0 0 0]\n",
      "  [0 0 0]\n",
      "  [0 0 0]]\n",
      "\n",
      " [[0 0 0]\n",
      "  [0 0 0]\n",
      "  [0 0 0]]\n",
      "\n",
      " [[0 0 0]\n",
      "  [0 0 0]\n",
      "  [0 0 0]]]\n",
      "[[[1 1 1]\n",
      "  [1 1 1]\n",
      "  [1 1 1]]\n",
      "\n",
      " [[1 1 1]\n",
      "  [1 1 1]\n",
      "  [1 1 1]]\n",
      "\n",
      " [[1 1 1]\n",
      "  [1 1 1]\n",
      "  [1 1 1]]]\n"
     ]
    }
   ],
   "source": [
    "shape = tuple(map(int, input().split()))\n",
    "\n",
    "print(np.zeros(shape, dtype=np.int))\n",
    "print(np.ones(shape, dtype=np.int))"
   ]
  },
  {
   "cell_type": "markdown",
   "metadata": {},
   "source": [
    "### Eye and Identity - Done\n",
    "- **identity**: returns identity matrix, float by default, given the shape\n",
    "- **eye**: returns diagonal matrix with ones. That diagonal can change depending on value of *k*. k > 0, for the uppers, k < 0 for lower and k = 0 for the central diagonal. Also, give the shape of the matrix! __Matrix does not have to be SQUARE!__\n",
    "- `string.replace(old, new, count)`!!!"
   ]
  },
  {
   "cell_type": "code",
   "execution_count": 43,
   "metadata": {},
   "outputs": [
    {
     "name": "stdout",
     "output_type": "stream",
     "text": [
      "3 3\n",
      "[[ 1.  0.  0.]\n",
      " [ 0.  1.  0.]\n",
      " [ 0.  0.  1.]]\n"
     ]
    }
   ],
   "source": [
    "N, M = map(int, input().split())\n",
    "\n",
    "if N == M:\n",
    "    print(str(np.identity(N)).replace('0.', ' 0.').replace('1.', ' 1.'))\n",
    "else:\n",
    "    print(str(np.eye(N, M, k = 0)).replace('0.', ' 0.').replace('1.', ' 1.'))"
   ]
  },
  {
   "cell_type": "markdown",
   "metadata": {},
   "source": [
    "### Array Mathematics - Done\n",
    "- Regular math operations of arrays work as well as on R vectors!!!"
   ]
  },
  {
   "cell_type": "code",
   "execution_count": 45,
   "metadata": {},
   "outputs": [
    {
     "name": "stdout",
     "output_type": "stream",
     "text": [
      "1 4 \n",
      "1 2 3 4\n",
      "5 6 7 8\n",
      "[[ 6  8 10 12]]\n",
      "[[-4 -4 -4 -4]]\n",
      "[[ 5 12 21 32]]\n",
      "[[0.2        0.33333333 0.42857143 0.5       ]]\n",
      "[[1 2 3 4]]\n",
      "[[    1    64  2187 65536]]\n"
     ]
    }
   ],
   "source": [
    "N, M = map(int, input().split())\n",
    "\n",
    "arr1 = []\n",
    "arr2 = []\n",
    "for _ in range(N):\n",
    "    arr1.append(list(map(int, input().split())))\n",
    "\n",
    "for _ in range(N):\n",
    "    arr2.append(list(map(int, input().split())))\n",
    "\n",
    "arr1 = np.array(arr1)\n",
    "arr2 = np.array(arr2)\n",
    "\n",
    "# math operations\n",
    "print(arr1 + arr2)\n",
    "print(arr1 - arr2)\n",
    "print(arr1 * arr2)\n",
    "print(arr1 // arr2)\n",
    "print(arr1 % arr2)\n",
    "print(arr1 ** arr2)"
   ]
  },
  {
   "cell_type": "markdown",
   "metadata": {},
   "source": [
    "### Floor, Ceil and Rint - Done\n",
    "- **floor**: apply floor function to each element in array (next integer)\n",
    "- **ceil**: apply ceil function to each element in array (prev integer)\n",
    "- **rint** apply rint function to each element in array (closest integer, like _round_)\n",
    "- `np.set_printoptions(sign=' ')`: is to change the printing options!!!"
   ]
  },
  {
   "cell_type": "code",
   "execution_count": 49,
   "metadata": {},
   "outputs": [
    {
     "name": "stdout",
     "output_type": "stream",
     "text": [
      "1 2 3\n",
      "[ 1.  2.  3.]\n",
      "[ 1.  2.  3.]\n",
      "[ 1.  2.  3.]\n"
     ]
    }
   ],
   "source": [
    "A = np.array(list(map(float, input().split())))\n",
    "np.set_printoptions(sign=' ')\n",
    "\n",
    "print(np.floor(A))\n",
    "print(np.ceil(A))\n",
    "print(np.rint(A))"
   ]
  },
  {
   "cell_type": "markdown",
   "metadata": {},
   "source": [
    "### Sum and Prod - Done\n",
    "- **sum**: sum elements in array by axis, like _colsum()_ in R\n",
    "- **prod**: multiply elements in array by axis\n",
    "- By default `axis = None`, hence it performs operation over all elements in array!"
   ]
  },
  {
   "cell_type": "code",
   "execution_count": 52,
   "metadata": {},
   "outputs": [
    {
     "name": "stdout",
     "output_type": "stream",
     "text": [
      "2 2\n",
      "1 2\n",
      "3 4\n",
      "24\n"
     ]
    }
   ],
   "source": [
    "N, M = map(int, input().split())\n",
    "\n",
    "arr = []\n",
    "for _ in range(N):\n",
    "    arr.append(list(map(int, input().split())))\n",
    "\n",
    "arr = np.array(arr)\n",
    "print(np.prod(np.sum(arr, axis = 0), axis = 0))"
   ]
  },
  {
   "cell_type": "markdown",
   "metadata": {},
   "source": [
    "### Min and Max - Done\n",
    "- **min**: return min array by axis\n",
    "- **max**: return max array by axis\n",
    "- By default, `axis = None`, returns min/max over all elements in array"
   ]
  },
  {
   "cell_type": "code",
   "execution_count": 54,
   "metadata": {},
   "outputs": [
    {
     "name": "stdout",
     "output_type": "stream",
     "text": [
      "2 2\n",
      "1 2\n",
      "3 4\n",
      "3\n"
     ]
    }
   ],
   "source": [
    "N, M = map(int, input().split())\n",
    "\n",
    "arr = []\n",
    "for _ in range(N):\n",
    "    arr.append(list(map(int, input().split())))\n",
    "\n",
    "arr = np.array(arr)\n",
    "print(np.max(np.min(arr, axis = 1), axis = 0))"
   ]
  },
  {
   "cell_type": "markdown",
   "metadata": {},
   "source": [
    "### Mean, Var and Std - Done\n",
    "- **mean**: return mean of array by axis\n",
    "- **var**: return var of array by axis\n",
    "- **std**: return std of array by axis\n",
    "- By default, `axis = None`, returns mean/var/std over all elements in array"
   ]
  },
  {
   "cell_type": "code",
   "execution_count": 55,
   "metadata": {},
   "outputs": [
    {
     "name": "stdout",
     "output_type": "stream",
     "text": [
      "2 2\n",
      "1 2\n",
      "3 4\n",
      "[ 1.5  3.5]\n",
      "[ 1.  1.]\n",
      "1.118033988749895\n"
     ]
    }
   ],
   "source": [
    "np.set_printoptions(legacy='1.13') # to use version of numpy 1.13\n",
    "N, M = map(int, input().split())\n",
    "\n",
    "arr = []\n",
    "for _ in range(N):\n",
    "    arr.append(list(map(int, input().split())))\n",
    "\n",
    "arr = np.array(arr)\n",
    "print(np.mean(arr, axis = 1))\n",
    "print(np.var(arr, axis = 0))\n",
    "print('{0:.11f}'.format(np.std(arr))) # print eleven decimal places"
   ]
  },
  {
   "cell_type": "markdown",
   "metadata": {},
   "source": [
    "### Dot and Cross - Done\n",
    "- **dot**: returns dot product of two arrays\n",
    "- **cross**: returns cross product of two arrays\n",
    "- Matrix multiplication is DOT product!!!"
   ]
  },
  {
   "cell_type": "code",
   "execution_count": 56,
   "metadata": {},
   "outputs": [
    {
     "name": "stdout",
     "output_type": "stream",
     "text": [
      "2\n",
      "1 2\n",
      "3 4\n",
      "1 2\n",
      "3 4\n",
      "[[ 7 10]\n",
      " [15 22]]\n"
     ]
    }
   ],
   "source": [
    "N = int(input())\n",
    "\n",
    "A = []\n",
    "B = []\n",
    "\n",
    "for _ in range(N):\n",
    "    A.append(list(map(int, input().split())))\n",
    "    \n",
    "for _ in range(N):\n",
    "    B.append(list(map(int, input().split())))\n",
    "    \n",
    "A = np.array(A)\n",
    "B = np.array(B)\n",
    "\n",
    "print(np.dot(A, B))"
   ]
  },
  {
   "cell_type": "markdown",
   "metadata": {},
   "source": [
    "### Inner and Outer - Done\n",
    "- **inner**: returns inner product of two arrays\n",
    "- **outer**: returns outer product of two arrays"
   ]
  },
  {
   "cell_type": "code",
   "execution_count": 58,
   "metadata": {},
   "outputs": [
    {
     "name": "stdout",
     "output_type": "stream",
     "text": [
      "0 1\n",
      "2 3\n",
      "3\n",
      "[[0 0]\n",
      " [2 3]]\n"
     ]
    }
   ],
   "source": [
    "A = np.array(list(map(int, input().split())))\n",
    "B = np.array(list(map(int, input().split())))\n",
    "\n",
    "print(np.inner(A, B))\n",
    "print(np.outer(A, B))"
   ]
  },
  {
   "cell_type": "markdown",
   "metadata": {},
   "source": [
    "### Polynomials - Done\n",
    "- **poly**: The poly tool returns the coefficients of a polynomial with the given sequence of roots.\n",
    "- **roots**: The roots tool returns the roots of a polynomial with the given coefficients.\n",
    "- **polyint**: The polyint tool returns an antiderivative (indefinite integral) of a polynomial.\n",
    "- **polyder**: The polyder tool returns the derivative of the specified order of a polynomial.\n",
    "- **polyval**: The polyval tool evaluates the polynomial at specific value.\n",
    "- **polyfit**: The polyfit tool fits a polynomial of a specified order to a set of data using a least-squares approach.\n",
    "- **polyadd, polysub, polymul, polydiv**:  handle proper addition, subtraction, multiplication, and division of polynomial coefficients, respectively."
   ]
  },
  {
   "cell_type": "code",
   "execution_count": 59,
   "metadata": {},
   "outputs": [
    {
     "name": "stdout",
     "output_type": "stream",
     "text": [
      "1.1 2 3\n",
      "0\n",
      "3.0\n"
     ]
    }
   ],
   "source": [
    "coeffs = list(map(float, input().split()))\n",
    "x = float(input())\n",
    "\n",
    "# find the value of P at point x\n",
    "print(np.polyval(coeffs, x))"
   ]
  },
  {
   "cell_type": "markdown",
   "metadata": {},
   "source": [
    "### Linear Algebra - Done\n",
    "- linear algebra operations can be found in a special module: linalg.etc\n",
    "- **linalg.det**: The linalg.det tool computes the determinant of an array.\n",
    "- **linalg.eig**: The linalg.eig computes the eigenvalues and right eigenvectors of a _square_ array.\n",
    "- **linalg.inv**: The linalg.inv tool computes the (multiplicative) inverse of a matrix."
   ]
  },
  {
   "cell_type": "code",
   "execution_count": 64,
   "metadata": {},
   "outputs": [
    {
     "name": "stdout",
     "output_type": "stream",
     "text": [
      "2\n",
      "1.1 1.1\n",
      "1.1 1.1\n",
      "0.00\n"
     ]
    }
   ],
   "source": [
    "N = int(input())\n",
    "\n",
    "A = []\n",
    "for _ in range(N):\n",
    "    A.append(list(map(float, input().split())))\n",
    "\n",
    "A = np.array(A)\n",
    "print('{0:.2f}'.format(np.linalg.det(A)))"
   ]
  }
 ],
 "metadata": {
  "kernelspec": {
   "display_name": "Python 3",
   "language": "python",
   "name": "python3"
  },
  "language_info": {
   "codemirror_mode": {
    "name": "ipython",
    "version": 3
   },
   "file_extension": ".py",
   "mimetype": "text/x-python",
   "name": "python",
   "nbconvert_exporter": "python",
   "pygments_lexer": "ipython3",
   "version": "3.7.0"
  }
 },
 "nbformat": 4,
 "nbformat_minor": 2
}
