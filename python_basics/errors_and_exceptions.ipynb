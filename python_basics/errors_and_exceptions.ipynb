{
 "cells": [
  {
   "cell_type": "markdown",
   "metadata": {},
   "source": [
    "# Errors and Exceptions\n",
    "\n",
    "### Exceptions\n",
    "We are given two values $a$ and $b$. Perform integer division and print $a/b$. In the case of ZeroDivisionError or ValueError, print the error code.\n",
    "\n",
    "**Input Format:**\n",
    "1. The first line contains $T$, the number of test cases.\n",
    "2. The next $T$ lines each contain the space separated values of $a$ and $b$.\n",
    "\n",
    "**Constraints:**\n",
    "1. $0 < T < 10$"
   ]
  },
  {
   "cell_type": "code",
   "execution_count": 10,
   "metadata": {},
   "outputs": [
    {
     "name": "stdout",
     "output_type": "stream",
     "text": [
      "2\n",
      "3 0\n",
      "Error code: integer division or modulo by zero\n",
      "3 $\n",
      "Error code: invalid literal for int() with base 10: '$'\n"
     ]
    }
   ],
   "source": [
    "import sys\n",
    "\n",
    "T = int(input())\n",
    "assert 0 < T < 10, 'Number of test cases is out of range!'\n",
    "\n",
    "for _ in range(T):\n",
    "    try:\n",
    "        a, b = map(int, input().split())\n",
    "        result = a // b\n",
    "        print(result)\n",
    "    except ZeroDivisionError as err:\n",
    "        print('Error Code: {}'.format(err))\n",
    "    except ValueError as err: \n",
    "        print('Error Code: {}'.format(err))"
   ]
  },
  {
   "cell_type": "markdown",
   "metadata": {},
   "source": [
    "#### What I learnt\n",
    "1. There are zeroDivision, ValueError error types which are *default* in python 3\n",
    "2. try: ... except: errors\n",
    "3. Default error messages can be saved in the *err*: <mark>except as err</mark>\n",
    "\n",
    "<hr/>\n",
    "\n",
    "### Incorrect Regex\n",
    "We are given a string $S$. Our task is to find if $S$ is a valid regex or not. Print \"True\" or \"False\" for each test case without quotes.\n",
    "\n",
    "**Input Format:**\n",
    "1. The first line contains integer $T$, the number of test cases.\n",
    "2. The next $T$ lines contains the string $S$.\n",
    "\n",
    "**Constraints:**\n",
    "$0 < T < 100$"
   ]
  },
  {
   "cell_type": "code",
   "execution_count": 11,
   "metadata": {},
   "outputs": [
    {
     "name": "stdout",
     "output_type": "stream",
     "text": [
      "2\n",
      ".*\\+\n",
      "True\n",
      ".*+\n",
      "False\n"
     ]
    }
   ],
   "source": [
    "import re\n",
    "\n",
    "T = int(input())\n",
    "assert 0 < T < 100, 'Number of case tests is out of range!'\n",
    "\n",
    "for _ in range(T):\n",
    "    try:\n",
    "        re.compile(input())\n",
    "        print(True)\n",
    "    except re.error:\n",
    "        print(False)"
   ]
  },
  {
   "cell_type": "markdown",
   "metadata": {},
   "source": [
    "#### What I learnt:\n",
    "1. regex: regular expression\n",
    "2. used for input validation\n",
    "3. import module **re** to handle Regex checkings and errors\n",
    "4. re.compile(*any string*): to check if the string is valid regex\n",
    "5. re.error: default regex error"
   ]
  }
 ],
 "metadata": {
  "kernelspec": {
   "display_name": "Python 3",
   "language": "python",
   "name": "python3"
  },
  "language_info": {
   "codemirror_mode": {
    "name": "ipython",
    "version": 3
   },
   "file_extension": ".py",
   "mimetype": "text/x-python",
   "name": "python",
   "nbconvert_exporter": "python",
   "pygments_lexer": "ipython3",
   "version": "3.7.0"
  }
 },
 "nbformat": 4,
 "nbformat_minor": 2
}
