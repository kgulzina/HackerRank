{
 "cells": [
  {
   "cell_type": "markdown",
   "metadata": {},
   "source": [
    "# Date and Time\n",
    "\n",
    "### Calendar Module\n",
    "You are given a date. Your task is to find what the *day* is on that date. Output the correct day in capital letters.\n",
    "\n",
    "**Input Format:**\n",
    "1. A single line of input containing the space separated month, day and year, respectively, in **MM DD YYYY** format.\n",
    "\n",
    "**Constraints:**\n",
    "1. $2000 < year < 3000$"
   ]
  },
  {
   "cell_type": "code",
   "execution_count": 21,
   "metadata": {},
   "outputs": [
    {
     "name": "stdout",
     "output_type": "stream",
     "text": [
      "09 14 2019\n",
      "[9, 14, 2019]\n",
      "SATURDAY\n"
     ]
    }
   ],
   "source": [
    "import calendar\n",
    "\n",
    "date = list(map(int, input().split()))\n",
    "assert 2000 < date[2] < 3000, 'Year is out of range!'\n",
    "\n",
    "# combine two functions from calendar module\n",
    "print(list(calendar.day_name)[calendar.weekday(date[2], date[0], date[1])].upper())"
   ]
  },
  {
   "cell_type": "markdown",
   "metadata": {},
   "source": [
    "#### What I learnt:\n",
    "1. There is whole module about date and time: <mark>calendar</mark>\n",
    "2. The calendar module allows you to output calendars and provides additional useful functions for them.\n",
    "3. The <mark>class calendar.TextCalendar()</mark> can be used to generate plain text calendars.\n",
    "4. Know which day in calendar: <mark>calendar.weekday()</mark>. Returns a NUMBER.\n",
    "5. Get all weekday names: <mark>calendar.day_name()</mark>\n",
    "\n",
    "<hr/>\n",
    "\n",
    "### Time Delta\n",
    "You are given two timestamps of one such post that a user can see on his newsfeed in the following format:\n",
    "$Day dd Mon yyyy hh:mm:ss +xxxx$. Here $+xxxx$ represents the time zone. Your task is to print the absolute difference (*in seconds*) between them. Print the absolute difference $t_1-t_2$ in seconds.\n",
    "\n",
    "**Input Format**\n",
    "1. The first line contains $T$, the number of testcases.\n",
    "2. Each testcase contains 2 lines, representing time $t_1$ and time $t_2$.\n",
    "\n",
    "**Constraints**\n",
    "1. Input contains only valid timestamps\n",
    "2. $year \\leq 3000$"
   ]
  },
  {
   "cell_type": "code",
   "execution_count": 30,
   "metadata": {},
   "outputs": [
    {
     "data": {
      "text/plain": [
       "12527392.0"
      ]
     },
     "execution_count": 30,
     "metadata": {},
     "output_type": "execute_result"
    }
   ],
   "source": [
    "from datetime import datetime\n",
    "\n",
    "def time_delta(t1, t2):\n",
    "    t1 = datetime.strptime(t1, '%a %d %b %Y %H:%M:%S %z')\n",
    "    t2 = datetime.strptime(t2, '%a %d %b %Y %H:%M:%S %z')\n",
    "    return (abs(t1-t2)).total_seconds()\n",
    "    \n",
    "time_delta('Fri 11 Feb 2078 00:05:21 +0400', 'Mon 29 Dec 2064 03:33:48 -1100')\n",
    "time_delta('Wed 12 May 2269 23:22:15 -0500', 'Tue 05 Oct 2269 02:12:07 -0200')"
   ]
  },
  {
   "cell_type": "markdown",
   "metadata": {},
   "source": [
    "#### What I learnt:\n",
    "1. There is the same concept module like calendar: <mark>datetime</mark>\n",
    "2. You can convert string *timestamps* to valid *time delta* by using: <mark>datetime.strptime()</mark>\n",
    "3. Convert timestamp to a valid date time: <mark>datetime.strftime()</mark>\n",
    "4. Manipulate *time deltas* in different ways. For example, get the seconds of time delta: <mark>timedelta.total_seconds()</mark>\n",
    "5. Manipulate *time deltas* by different operations: __'+', '-', etc.__"
   ]
  }
 ],
 "metadata": {
  "kernelspec": {
   "display_name": "Python 3",
   "language": "python",
   "name": "python3"
  },
  "language_info": {
   "codemirror_mode": {
    "name": "ipython",
    "version": 3
   },
   "file_extension": ".py",
   "mimetype": "text/x-python",
   "name": "python",
   "nbconvert_exporter": "python",
   "pygments_lexer": "ipython3",
   "version": "3.7.0"
  }
 },
 "nbformat": 4,
 "nbformat_minor": 2
}
