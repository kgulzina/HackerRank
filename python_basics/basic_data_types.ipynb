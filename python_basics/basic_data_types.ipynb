{
 "cells": [
  {
   "cell_type": "markdown",
   "metadata": {},
   "source": [
    "# Basic Data Types\n",
    "\n",
    "### Lists\n",
    "Write a chunk of code which takes in list commands with the corresponding arguments and evaluates them. First line is the number of such commands, following commands come each in a new line.\n",
    "**Constraints**: arguments should be integers"
   ]
  },
  {
   "cell_type": "code",
   "execution_count": 2,
   "metadata": {},
   "outputs": [
    {
     "name": "stdout",
     "output_type": "stream",
     "text": [
      "10\n",
      "print\n",
      "[]\n",
      "insert 0 5\n",
      "insert 1 9\n",
      "insert 3 6\n",
      "print\n",
      "[5, 9, 6]\n",
      "pop\n",
      "print\n",
      "[5, 9]\n",
      "reverse\n",
      "print\n",
      "[9, 5]\n",
      "sort\n"
     ]
    }
   ],
   "source": [
    "# read the first line: N\n",
    "N = int(input())\n",
    "\n",
    "# later manipulate this empty list\n",
    "l = []\n",
    "\n",
    "for n in range(N):\n",
    "    input_line = input().split()\n",
    "    command = input_line[0]\n",
    "    args = input_line[1:]\n",
    "    if command != 'print':\n",
    "        command += '(' + ','.join(args) + ')'\n",
    "        eval('l.' + command)\n",
    "    else:\n",
    "        print(l)"
   ]
  },
  {
   "cell_type": "markdown",
   "metadata": {},
   "source": [
    "#### What I learnt:\n",
    "\n",
    "1. Each call of <mark>input()</mark> in code chunk reads a new line in the actual *raw* <mark>input()</mark>\n",
    "2. Join elements of list into a string with some character: <mark>','.join(args)</mark>\n",
    "3. Split string into multiple arguments stored in a list: <mark>str.split()</mark>\n",
    "4. <mark>eval()</mark> evaluates a string as a python code\n",
    "\n",
    "<hr/>\n",
    "\n",
    "### Tuples\n",
    "Given an integer, <em>n</em>, and <em>n</em> space-separated integers as input, create a tuple, <em>t</em>, of those <em>n</em> integers. Then compute and print the result of <em>hash()</em>."
   ]
  },
  {
   "cell_type": "code",
   "execution_count": null,
   "metadata": {},
   "outputs": [],
   "source": [
    "if __name__ == '__main__':\n",
    "    n = int(input())\n",
    "    t = tuple(int(i) for i in input().split())\n",
    "    print(hash(t))"
   ]
  },
  {
   "cell_type": "markdown",
   "metadata": {},
   "source": [
    "#### What I learnt:\n",
    "1. Tuple is an unmutable list\n",
    "2. Convert tuple into a list easily: <mark>tuple(list)</mark>\n",
    "3. Use list comprehensions for quicker change of mode of arguments of a list\n",
    "4. <mark>hash(t)</mark> returns hash value of any python object\n",
    "5. Markdown ignores and messes up * and _ signs, which are used for <em>italics</em> and <strong>bold</strong>. So better to use HTML version of italics and bold.\n",
    "\n",
    "<hr/>\n",
    "\n",
    "### List comprehesions\n",
    "Given three integers $X, Y$ and $Z$, print all possible 3D coordinates s.t. their sum is not equal to to given $N$"
   ]
  },
  {
   "cell_type": "code",
   "execution_count": 5,
   "metadata": {},
   "outputs": [
    {
     "name": "stdout",
     "output_type": "stream",
     "text": [
      "1\n",
      "1\n",
      "1\n",
      "2\n",
      "[[0, 0, 0], [0, 0, 1], [0, 1, 0], [1, 0, 0], [1, 1, 1]]\n"
     ]
    }
   ],
   "source": [
    "if __name__ == '__main__':\n",
    "    x = int(input())\n",
    "    y = int(input())\n",
    "    z = int(input())\n",
    "    N = int(input())\n",
    "    \n",
    "    l = [[i,j,k] for i in range(x+1) for j in range(y+1) for k in range(z+1) if i+j+k != N]\n",
    "    print(l)"
   ]
  },
  {
   "cell_type": "markdown",
   "metadata": {},
   "source": [
    "#### What I learnt:\n",
    "1. Theory of list comprehensions come from mathematic (asbtract) definition of *sets*. \n",
    "2. You can include only selected function outputs from the given input range: Compile function in list comprehension only if condition is satisfied!\n",
    "3. Or inlude every single combination of inputs in range!\n",
    "\n",
    "<hr/>\n",
    "\n",
    "### Find the Runner-Up Score!\n",
    "Given the participants' score sheet for your University Sports Day, you are required to find the runner-up score. You are given  scores. Store them in a list and find the score of the runner-up. \n",
    "<em>Constraints:</em>\n",
    "1. $2 \\leq n \\leq 10$\n",
    "2. $-100 \\leq A[i] \\leq 100$"
   ]
  },
  {
   "cell_type": "code",
   "execution_count": 46,
   "metadata": {},
   "outputs": [
    {
     "name": "stdout",
     "output_type": "stream",
     "text": [
      "5\n",
      "8 7 6 5 4\n",
      "7\n"
     ]
    }
   ],
   "source": [
    "if __name__ == '__main__':\n",
    "    n = int(input())\n",
    "    arr = list(map(int, input().split()))\n",
    "    \n",
    "    assert 2 <= n <= 10, 'n is too large!'\n",
    "    assert all(-100 <= i <= 100 for i in arr), 'Elements in array exceeded the boundaries!'\n",
    "    \n",
    "    sorted_arr = sorted(arr)[::-1] #alternative to reverse\n",
    "    winner = sorted_arr[0]\n",
    "    \n",
    "    if winner == sorted_arr[n-1]:\n",
    "        print(winner)\n",
    "    else:\n",
    "        while sorted_arr[0] == winner:\n",
    "            sorted_arr.remove(winner)\n",
    "        print(sorted_arr[0])"
   ]
  },
  {
   "cell_type": "markdown",
   "metadata": {},
   "source": [
    "#### What I learnt:\n",
    "1. <mark>map()</mark> applies function to every element of iterable and returns a MAP object (like apply(), sapply(), mapply() in **R**)\n",
    "2. map() %>% list() to make the output a list!!!\n",
    "3. <mark>reverse(arr)</mark> == arr[::-1]\n",
    "4. <mark>remove(x)</mark> removes the first element in array which equals to x\n",
    "\n",
    "<hr/>\n",
    "\n",
    "### Nested Lists\n",
    "Given the names and grades for each student in a Physics class of *N* students, store them in a nested list and print the name(s) of any student(s) having the second lowest grade. If there are multiple students with the same grade, order their names alphabetically and print each name on a new line.\n",
    "__Input Format:__ The first line contains an integer, $N$, the number of students. The $2N$ subsequent lines describe each student over 2 lines; the first line contains a student's name, and the second line contains their grade. Print the name of each student (if multiple) in alphabetical order, each on a new line.\n",
    "<strong>Constraints:</strong>\n",
    "1. $ 2 \\leq N \\leq 5$\n",
    "2. There will always be one or more students having the second lowest grade."
   ]
  },
  {
   "cell_type": "code",
   "execution_count": 44,
   "metadata": {},
   "outputs": [
    {
     "data": {
      "text/plain": [
       "[3, 3, 2, 1]"
      ]
     },
     "execution_count": 44,
     "metadata": {},
     "output_type": "execute_result"
    }
   ],
   "source": [
    "N = int(raw_input())\n",
    "\n"
   ]
  },
  {
   "cell_type": "markdown",
   "metadata": {},
   "source": [
    "#### What I learnt:\n",
    "1. \n",
    "\n",
    "<hr/>\n",
    "\n",
    "### Finding the Percentage\n",
    "You have a record of *N* students. Each record contains the student's name, and their percent marks in Maths, Physics and Chemistry. The marks can be floating values. The user enters some integer _N_ followed by the names and marks for $N$ students. You are required to save the record in a dictionary data type. The user then enters a student's name. Output the average percentage marks obtained by that student, correct to two decimal places. Print the average of the marks obtained by the particular student to 2 decimal places.\n",
    "<strong>Constraints:</strong>\n",
    "1. $2 \\leq N \\leq 10$\n",
    "2. $0 \\leq Marks \\leq 100$"
   ]
  },
  {
   "cell_type": "code",
   "execution_count": 73,
   "metadata": {},
   "outputs": [
    {
     "name": "stdout",
     "output_type": "stream",
     "text": [
      "2\n",
      "zamir 5 5\n",
      "musya 3 4\n",
      "musya\n",
      "2.33\n"
     ]
    }
   ],
   "source": [
    "if __name__ == '__main__':\n",
    "    n = int(input())\n",
    "    assert 2 <= n <= 10, 'N is too large!'\n",
    "    \n",
    "    students = {}\n",
    "    for line in range(n):\n",
    "        name, *marks = input().split()\n",
    "        students[name] = [float(i) for i in marks]\n",
    "        assert all(0 <= mark <= 100 for mark in students[name]), 'Marks are invalid!'\n",
    "        \n",
    "    input_name = input()\n",
    "    print(\"{0:.2f}\".format(sum(students[input_name]) / 3))"
   ]
  },
  {
   "cell_type": "markdown",
   "metadata": {},
   "source": [
    "#### What I learnt:\n",
    "1. Elements in a list can be assigned to variables easily: <mark>a, b = [1, 2]</mark> s.t. a = 1, and b = 2\n",
    "2. Part of a list can be sliced and automatically assigned to a variables: <mark>a, *b = [1, 2, 3]</mark> s.t. a = 1 and b = [2, 3]\n",
    "3. Dictionaries are defined by {}\n",
    "4. Dictionary students: students[key] = some python object! (can be almost anything)\n",
    "5. Print up to <em>N</em> decimal places: <mark>print(\"{0:._N_f}\".format(a))</mark>"
   ]
  }
 ],
 "metadata": {
  "kernelspec": {
   "display_name": "Python 3",
   "language": "python",
   "name": "python3"
  },
  "language_info": {
   "codemirror_mode": {
    "name": "ipython",
    "version": 3
   },
   "file_extension": ".py",
   "mimetype": "text/x-python",
   "name": "python",
   "nbconvert_exporter": "python",
   "pygments_lexer": "ipython3",
   "version": "3.7.0"
  }
 },
 "nbformat": 4,
 "nbformat_minor": 2
}
